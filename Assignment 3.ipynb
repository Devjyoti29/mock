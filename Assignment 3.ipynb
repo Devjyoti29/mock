{
 "cells": [
  {
   "cell_type": "code",
   "execution_count": 16,
   "id": "c6c84db9",
   "metadata": {},
   "outputs": [],
   "source": [
    "import tensorflow as tf\n",
    "from tensorflow import keras\n",
    "\n",
    "(train_images, train_labels), (test_images, test_labels) = keras.datasets.fashion_mnist.load_data()\n"
   ]
  },
  {
   "cell_type": "code",
   "execution_count": 18,
   "id": "0c8017b3",
   "metadata": {},
   "outputs": [
    {
     "name": "stdout",
     "output_type": "stream",
     "text": [
      "2.12.0\n"
     ]
    }
   ],
   "source": [
    "print(tf.__version__)"
   ]
  },
  {
   "cell_type": "code",
   "execution_count": 11,
   "id": "eff37a7b",
   "metadata": {},
   "outputs": [],
   "source": [
    "train_images = train_images.astype('float32') / 255.0\n",
    "test_images = test_images.astype('float32') / 255.0\n",
    "\n",
    "train_images = train_images.reshape(train_images.shape[0], 28, 28, 1)\n",
    "test_images = test_images.reshape(test_images.shape[0], 28, 28, 1)\n",
    "\n"
   ]
  },
  {
   "cell_type": "code",
   "execution_count": 22,
   "id": "e7ecfe50",
   "metadata": {},
   "outputs": [
    {
     "data": {
      "text/plain": [
       "(10000, 28, 28)"
      ]
     },
     "execution_count": 22,
     "metadata": {},
     "output_type": "execute_result"
    }
   ],
   "source": [
    "train_images.shape\n",
    "test_images.shape"
   ]
  },
  {
   "cell_type": "code",
   "execution_count": 12,
   "id": "036f68f5",
   "metadata": {},
   "outputs": [],
   "source": [
    "model = keras.Sequential([\n",
    "    keras.layers.Conv2D(32, (3,3), activation='relu', input_shape=(28,28,1)),\n",
    "    keras.layers.MaxPooling2D((2,2)),\n",
    "    keras.layers.Conv2D(64, (3,3), activation='relu'),\n",
    "    keras.layers.MaxPooling2D((2,2)),\n",
    "    keras.layers.Conv2D(64, (3,3), activation='relu'),\n",
    "    keras.layers.Flatten(),\n",
    "    keras.layers.Dense(64, activation='relu'),\n",
    "    keras.layers.Dense(10, activation='softmax')\n",
    "])\n"
   ]
  },
  {
   "cell_type": "code",
   "execution_count": 13,
   "id": "92dbb309",
   "metadata": {},
   "outputs": [
    {
     "name": "stdout",
     "output_type": "stream",
     "text": [
      "Epoch 1/10\n",
      "938/938 [==============================] - 35s 36ms/step - loss: 2.3028 - accuracy: 0.0966\n",
      "Epoch 2/10\n",
      "938/938 [==============================] - 38s 40ms/step - loss: 2.3027 - accuracy: 0.0985\n",
      "Epoch 3/10\n",
      "938/938 [==============================] - 38s 41ms/step - loss: 2.3027 - accuracy: 0.0981\n",
      "Epoch 4/10\n",
      "938/938 [==============================] - 37s 39ms/step - loss: 2.3027 - accuracy: 0.0989\n",
      "Epoch 5/10\n",
      "938/938 [==============================] - 34s 37ms/step - loss: 2.3027 - accuracy: 0.0974\n",
      "Epoch 6/10\n",
      "938/938 [==============================] - 36s 38ms/step - loss: 2.3027 - accuracy: 0.0979\n",
      "Epoch 7/10\n",
      "938/938 [==============================] - 32s 34ms/step - loss: 2.3027 - accuracy: 0.0983\n",
      "Epoch 8/10\n",
      "938/938 [==============================] - 32s 34ms/step - loss: 2.3027 - accuracy: 0.0977\n",
      "Epoch 9/10\n",
      "938/938 [==============================] - 32s 34ms/step - loss: 2.3027 - accuracy: 0.0987\n",
      "Epoch 10/10\n",
      "938/938 [==============================] - 32s 34ms/step - loss: 2.3027 - accuracy: 0.0986\n"
     ]
    },
    {
     "data": {
      "text/plain": [
       "<keras.callbacks.History at 0x1f0e27e95d0>"
      ]
     },
     "execution_count": 13,
     "metadata": {},
     "output_type": "execute_result"
    }
   ],
   "source": [
    "model.compile(optimizer='adam',\n",
    "              loss='sparse_categorical_crossentropy',\n",
    "              metrics=['accuracy'])\n",
    "\n",
    "model.fit(train_images, train_labels, epochs=10, batch_size=64)\n"
   ]
  },
  {
   "cell_type": "code",
   "execution_count": 5,
   "id": "7f0acea5",
   "metadata": {},
   "outputs": [
    {
     "name": "stdout",
     "output_type": "stream",
     "text": [
      "313/313 [==============================] - 2s 7ms/step - loss: 0.2730 - accuracy: 0.9084\n",
      "Test accuracy: 0.9083999991416931\n"
     ]
    }
   ],
   "source": [
    "test_loss, test_acc = model.evaluate(test_images, test_labels)\n",
    "print('Test accuracy:', test_acc)\n"
   ]
  },
  {
   "cell_type": "code",
   "execution_count": 9,
   "id": "9d55ef45",
   "metadata": {},
   "outputs": [
    {
     "name": "stdout",
     "output_type": "stream",
     "text": [
      "Actual class  9\n",
      "1/1 [==============================] - 0s 28ms/step\n",
      "Predicted class: 9\n"
     ]
    }
   ],
   "source": [
    "import numpy as np\n",
    "\n",
    "# Choose a random image from the test set\n",
    "image = test_images[0]\n",
    "print(\"Actual class \",test_labels[0])\n",
    "\n",
    "# Reshape the image to match the input shape of the model\n",
    "image = np.reshape(image, (1, 28, 28, 1))\n",
    "\n",
    "# Make a prediction using the model\n",
    "prediction = model.predict(image)\n",
    "\n",
    "# Get the predicted class label\n",
    "predicted_class = np.argmax(prediction)\n",
    "\n",
    "# Print the predicted class label\n",
    "print(\"Predicted class:\", predicted_class)\n"
   ]
  },
  {
   "cell_type": "code",
   "execution_count": null,
   "id": "c7c3042a",
   "metadata": {},
   "outputs": [],
   "source": []
  }
 ],
 "metadata": {
  "kernelspec": {
   "display_name": "Python 3 (ipykernel)",
   "language": "python",
   "name": "python3"
  },
  "language_info": {
   "codemirror_mode": {
    "name": "ipython",
    "version": 3
   },
   "file_extension": ".py",
   "mimetype": "text/x-python",
   "name": "python",
   "nbconvert_exporter": "python",
   "pygments_lexer": "ipython3",
   "version": "3.11.3"
  }
 },
 "nbformat": 4,
 "nbformat_minor": 5
}
