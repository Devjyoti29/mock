{
 "cells": [
  {
   "cell_type": "code",
   "execution_count": 1,
   "id": "3ba8dbb4",
   "metadata": {},
   "outputs": [],
   "source": [
    "import tensorflow as tf\n",
    "from tensorflow.keras.datasets import boston_housing\n",
    "from sklearn import preprocessing"
   ]
  },
  {
   "cell_type": "code",
   "execution_count": 2,
   "id": "18f3260d",
   "metadata": {},
   "outputs": [],
   "source": [
    "#Feature selection done automatically by ANN"
   ]
  },
  {
   "cell_type": "code",
   "execution_count": 3,
   "id": "f81028a3",
   "metadata": {},
   "outputs": [],
   "source": [
    "(train_x,train_y),(test_x,test_y)=boston_housing.load_data()"
   ]
  },
  {
   "cell_type": "code",
   "execution_count": 4,
   "id": "23536c07",
   "metadata": {},
   "outputs": [
    {
     "name": "stdout",
     "output_type": "stream",
     "text": [
      "Train shape :  (404, 13)\n",
      "Test shape :  (102, 13)\n",
      "Actual Train output :  (404,)\n",
      "Actual Test output :  (102,)\n"
     ]
    }
   ],
   "source": [
    "print(\"Train shape : \",train_x.shape)\n",
    "print(\"Test shape : \",test_x.shape)\n",
    "print(\"Actual Train output : \",train_y.shape)\n",
    "print(\"Actual Test output : \",test_y.shape)"
   ]
  },
  {
   "cell_type": "code",
   "execution_count": 5,
   "id": "8cd475b3",
   "metadata": {},
   "outputs": [
    {
     "data": {
      "text/plain": [
       "array([15.2, 42.3, 50. , 21.1, 17.7, 18.5, 11.3, 15.6, 15.6, 14.4, 12.1,\n",
       "       17.9, 23.1, 19.9, 15.7,  8.8, 50. , 22.5, 24.1, 27.5, 10.9, 30.8,\n",
       "       32.9, 24. , 18.5, 13.3, 22.9, 34.7, 16.6, 17.5, 22.3, 16.1, 14.9,\n",
       "       23.1, 34.9, 25. , 13.9, 13.1, 20.4, 20. , 15.2, 24.7, 22.2, 16.7,\n",
       "       12.7, 15.6, 18.4, 21. , 30.1, 15.1, 18.7,  9.6, 31.5, 24.8, 19.1,\n",
       "       22. , 14.5, 11. , 32. , 29.4, 20.3, 24.4, 14.6, 19.5, 14.1, 14.3,\n",
       "       15.6, 10.5,  6.3, 19.3, 19.3, 13.4, 36.4, 17.8, 13.5, 16.5,  8.3,\n",
       "       14.3, 16. , 13.4, 28.6, 43.5, 20.2, 22. , 23. , 20.7, 12.5, 48.5,\n",
       "       14.6, 13.4, 23.7, 50. , 21.7, 39.8, 38.7, 22.2, 34.9, 22.5, 31.1,\n",
       "       28.7, 46. , 41.7, 21. , 26.6, 15. , 24.4, 13.3, 21.2, 11.7, 21.7,\n",
       "       19.4, 50. , 22.8, 19.7, 24.7, 36.2, 14.2, 18.9, 18.3, 20.6, 24.6,\n",
       "       18.2,  8.7, 44. , 10.4, 13.2, 21.2, 37. , 30.7, 22.9, 20. , 19.3,\n",
       "       31.7, 32. , 23.1, 18.8, 10.9, 50. , 19.6,  5. , 14.4, 19.8, 13.8,\n",
       "       19.6, 23.9, 24.5, 25. , 19.9, 17.2, 24.6, 13.5, 26.6, 21.4, 11.9,\n",
       "       22.6, 19.6,  8.5, 23.7, 23.1, 22.4, 20.5, 23.6, 18.4, 35.2, 23.1,\n",
       "       27.9, 20.6, 23.7, 28. , 13.6, 27.1, 23.6, 20.6, 18.2, 21.7, 17.1,\n",
       "        8.4, 25.3, 13.8, 22.2, 18.4, 20.7, 31.6, 30.5, 20.3,  8.8, 19.2,\n",
       "       19.4, 23.1, 23. , 14.8, 48.8, 22.6, 33.4, 21.1, 13.6, 32.2, 13.1,\n",
       "       23.4, 18.9, 23.9, 11.8, 23.3, 22.8, 19.6, 16.7, 13.4, 22.2, 20.4,\n",
       "       21.8, 26.4, 14.9, 24.1, 23.8, 12.3, 29.1, 21. , 19.5, 23.3, 23.8,\n",
       "       17.8, 11.5, 21.7, 19.9, 25. , 33.4, 28.5, 21.4, 24.3, 27.5, 33.1,\n",
       "       16.2, 23.3, 48.3, 22.9, 22.8, 13.1, 12.7, 22.6, 15. , 15.3, 10.5,\n",
       "       24. , 18.5, 21.7, 19.5, 33.2, 23.2,  5. , 19.1, 12.7, 22.3, 10.2,\n",
       "       13.9, 16.3, 17. , 20.1, 29.9, 17.2, 37.3, 45.4, 17.8, 23.2, 29. ,\n",
       "       22. , 18. , 17.4, 34.6, 20.1, 25. , 15.6, 24.8, 28.2, 21.2, 21.4,\n",
       "       23.8, 31. , 26.2, 17.4, 37.9, 17.5, 20. ,  8.3, 23.9,  8.4, 13.8,\n",
       "        7.2, 11.7, 17.1, 21.6, 50. , 16.1, 20.4, 20.6, 21.4, 20.6, 36.5,\n",
       "        8.5, 24.8, 10.8, 21.9, 17.3, 18.9, 36.2, 14.9, 18.2, 33.3, 21.8,\n",
       "       19.7, 31.6, 24.8, 19.4, 22.8,  7.5, 44.8, 16.8, 18.7, 50. , 50. ,\n",
       "       19.5, 20.1, 50. , 17.2, 20.8, 19.3, 41.3, 20.4, 20.5, 13.8, 16.5,\n",
       "       23.9, 20.6, 31.5, 23.3, 16.8, 14. , 33.8, 36.1, 12.8, 18.3, 18.7,\n",
       "       19.1, 29. , 30.1, 50. , 50. , 22. , 11.9, 37.6, 50. , 22.7, 20.8,\n",
       "       23.5, 27.9, 50. , 19.3, 23.9, 22.6, 15.2, 21.7, 19.2, 43.8, 20.3,\n",
       "       33.2, 19.9, 22.5, 32.7, 22. , 17.1, 19. , 15. , 16.1, 25.1, 23.7,\n",
       "       28.7, 37.2, 22.6, 16.4, 25. , 29.8, 22.1, 17.4, 18.1, 30.3, 17.5,\n",
       "       24.7, 12.6, 26.5, 28.7, 13.3, 10.4, 24.4, 23. , 20. , 17.8,  7. ,\n",
       "       11.8, 24.4, 13.8, 19.4, 25.2, 19.4, 19.4, 29.1])"
      ]
     },
     "execution_count": 5,
     "metadata": {},
     "output_type": "execute_result"
    }
   ],
   "source": [
    "train_y"
   ]
  },
  {
   "cell_type": "code",
   "execution_count": 6,
   "id": "c5965c9e",
   "metadata": {},
   "outputs": [
    {
     "data": {
      "text/plain": [
       "array([  1.23247,   0.     ,   8.14   ,   0.     ,   0.538  ,   6.142  ,\n",
       "        91.7    ,   3.9769 ,   4.     , 307.     ,  21.     , 396.9    ,\n",
       "        18.72   ])"
      ]
     },
     "execution_count": 6,
     "metadata": {},
     "output_type": "execute_result"
    }
   ],
   "source": [
    "train_x[0]"
   ]
  },
  {
   "cell_type": "code",
   "execution_count": 7,
   "id": "994aac42",
   "metadata": {},
   "outputs": [
    {
     "data": {
      "text/plain": [
       "15.2"
      ]
     },
     "execution_count": 7,
     "metadata": {},
     "output_type": "execute_result"
    }
   ],
   "source": [
    "train_y[0]"
   ]
  },
  {
   "cell_type": "code",
   "execution_count": 8,
   "id": "35e08fc0",
   "metadata": {},
   "outputs": [],
   "source": [
    "train_x=preprocessing.normalize(train_x)"
   ]
  },
  {
   "cell_type": "code",
   "execution_count": 9,
   "id": "8007c59e",
   "metadata": {},
   "outputs": [],
   "source": [
    "test_x=preprocessing.normalize(test_x)"
   ]
  },
  {
   "cell_type": "code",
   "execution_count": 14,
   "id": "22a463fb",
   "metadata": {},
   "outputs": [
    {
     "data": {
      "text/plain": [
       "(13,)"
      ]
     },
     "execution_count": 14,
     "metadata": {},
     "output_type": "execute_result"
    }
   ],
   "source": [
    "train_x[0].shape"
   ]
  },
  {
   "cell_type": "code",
   "execution_count": 11,
   "id": "9018879c",
   "metadata": {},
   "outputs": [],
   "source": [
    "from tensorflow.keras.models import Sequential\n",
    "from tensorflow.keras.layers import *"
   ]
  },
  {
   "cell_type": "code",
   "execution_count": 15,
   "id": "f8677689",
   "metadata": {},
   "outputs": [],
   "source": [
    "def housePricePredictionModel():\n",
    "    model=Sequential() #output of 1 layer will to provided to other\n",
    "    model.add(Dense(128,activation='relu',input_shape=(train_x[0].shape)))\n",
    "    model.add(Dense(64,activation='relu'))#No need to put explicit connections between dense layer 1 and 2\n",
    "    model.add(Dense(32,activation='relu'))\n",
    "    model.add(Dense(1))#No activation function required here because output\n",
    "    model.compile(optimizer='rmsprop',loss='mse',metrics=['mae'])\n",
    "    return model"
   ]
  },
  {
   "cell_type": "code",
   "execution_count": 17,
   "id": "f95537ed",
   "metadata": {},
   "outputs": [],
   "source": [
    "import numpy as np\n",
    "k=4\n",
    "num_val_samples = len(train_x)\n",
    "num_epochs=100\n",
    "all_scores=[]"
   ]
  },
  {
   "cell_type": "code",
   "execution_count": 20,
   "id": "285b5c3f",
   "metadata": {},
   "outputs": [
    {
     "name": "stdout",
     "output_type": "stream",
     "text": [
      "Epoch 1/100\n",
      "404/404 [==============================] - 2s 3ms/step - loss: 120.7466 - mae: 7.7391 - val_loss: 65.2214 - val_mae: 6.0356\n",
      "Epoch 2/100\n",
      "404/404 [==============================] - 1s 2ms/step - loss: 67.5973 - mae: 5.6985 - val_loss: 61.0586 - val_mae: 6.0186\n",
      "Epoch 3/100\n",
      "404/404 [==============================] - 1s 2ms/step - loss: 63.3176 - mae: 5.4427 - val_loss: 56.9813 - val_mae: 5.4858\n",
      "Epoch 4/100\n",
      "404/404 [==============================] - 1s 2ms/step - loss: 60.1170 - mae: 5.4261 - val_loss: 54.9908 - val_mae: 5.4036\n",
      "Epoch 5/100\n",
      "404/404 [==============================] - 1s 2ms/step - loss: 57.5318 - mae: 5.2216 - val_loss: 57.0136 - val_mae: 5.7868\n",
      "Epoch 6/100\n",
      "404/404 [==============================] - 1s 2ms/step - loss: 55.5646 - mae: 5.1161 - val_loss: 55.8981 - val_mae: 5.2717\n",
      "Epoch 7/100\n",
      "404/404 [==============================] - 1s 2ms/step - loss: 54.0744 - mae: 4.9652 - val_loss: 57.1929 - val_mae: 5.8742\n",
      "Epoch 8/100\n",
      "404/404 [==============================] - 1s 2ms/step - loss: 52.5341 - mae: 5.0026 - val_loss: 51.6443 - val_mae: 5.0389\n",
      "Epoch 9/100\n",
      "404/404 [==============================] - 1s 2ms/step - loss: 50.9709 - mae: 4.9208 - val_loss: 48.6512 - val_mae: 5.2050\n",
      "Epoch 10/100\n",
      "404/404 [==============================] - 1s 2ms/step - loss: 48.6750 - mae: 4.7242 - val_loss: 50.6575 - val_mae: 4.9679\n",
      "Epoch 11/100\n",
      "404/404 [==============================] - 1s 2ms/step - loss: 47.4902 - mae: 4.6244 - val_loss: 46.9120 - val_mae: 4.7488\n",
      "Epoch 12/100\n",
      "404/404 [==============================] - 1s 2ms/step - loss: 45.1371 - mae: 4.5349 - val_loss: 41.0153 - val_mae: 4.4353\n",
      "Epoch 13/100\n",
      "404/404 [==============================] - 1s 2ms/step - loss: 42.1566 - mae: 4.4506 - val_loss: 45.0864 - val_mae: 4.6633\n",
      "Epoch 14/100\n",
      "404/404 [==============================] - 1s 2ms/step - loss: 41.4532 - mae: 4.3931 - val_loss: 56.2457 - val_mae: 5.2515\n",
      "Epoch 15/100\n",
      "404/404 [==============================] - 1s 2ms/step - loss: 39.4939 - mae: 4.3417 - val_loss: 38.4786 - val_mae: 4.3594\n",
      "Epoch 16/100\n",
      "404/404 [==============================] - 1s 2ms/step - loss: 37.5873 - mae: 4.2178 - val_loss: 42.0550 - val_mae: 4.4596\n",
      "Epoch 17/100\n",
      "404/404 [==============================] - 1s 2ms/step - loss: 36.5199 - mae: 4.1308 - val_loss: 41.1373 - val_mae: 4.4122\n",
      "Epoch 18/100\n",
      "404/404 [==============================] - 1s 2ms/step - loss: 35.3120 - mae: 4.1257 - val_loss: 32.9047 - val_mae: 3.9943\n",
      "Epoch 19/100\n",
      "404/404 [==============================] - 1s 2ms/step - loss: 34.9205 - mae: 4.1779 - val_loss: 38.2121 - val_mae: 4.2274\n",
      "Epoch 20/100\n",
      "404/404 [==============================] - 1s 2ms/step - loss: 32.8799 - mae: 4.0493 - val_loss: 41.2386 - val_mae: 5.4238\n",
      "Epoch 21/100\n",
      "404/404 [==============================] - 1s 2ms/step - loss: 33.5025 - mae: 4.0295 - val_loss: 29.8923 - val_mae: 3.9383\n",
      "Epoch 22/100\n",
      "404/404 [==============================] - 1s 2ms/step - loss: 32.3302 - mae: 4.1197 - val_loss: 35.1436 - val_mae: 4.0770\n",
      "Epoch 23/100\n",
      "404/404 [==============================] - 1s 2ms/step - loss: 31.2842 - mae: 3.9175 - val_loss: 29.3477 - val_mae: 3.8293\n",
      "Epoch 24/100\n",
      "404/404 [==============================] - 1s 2ms/step - loss: 30.3492 - mae: 3.8494 - val_loss: 36.8701 - val_mae: 4.1985\n",
      "Epoch 25/100\n",
      "404/404 [==============================] - 1s 2ms/step - loss: 30.6510 - mae: 3.9141 - val_loss: 45.5317 - val_mae: 4.7884\n",
      "Epoch 26/100\n",
      "404/404 [==============================] - 1s 2ms/step - loss: 27.4182 - mae: 3.8322 - val_loss: 51.0612 - val_mae: 5.1876\n",
      "Epoch 27/100\n",
      "404/404 [==============================] - 1s 2ms/step - loss: 29.2588 - mae: 3.7720 - val_loss: 26.5931 - val_mae: 3.8229\n",
      "Epoch 28/100\n",
      "404/404 [==============================] - 1s 2ms/step - loss: 28.1313 - mae: 3.7523 - val_loss: 33.0613 - val_mae: 4.0281\n",
      "Epoch 29/100\n",
      "404/404 [==============================] - 1s 2ms/step - loss: 27.2620 - mae: 3.6738 - val_loss: 26.9108 - val_mae: 3.7593\n",
      "Epoch 30/100\n",
      "404/404 [==============================] - 1s 2ms/step - loss: 27.1116 - mae: 3.6541 - val_loss: 27.3464 - val_mae: 3.6851\n",
      "Epoch 31/100\n",
      "404/404 [==============================] - 1s 2ms/step - loss: 25.9855 - mae: 3.6687 - val_loss: 29.6462 - val_mae: 4.3531\n",
      "Epoch 32/100\n",
      "404/404 [==============================] - 1s 2ms/step - loss: 26.0088 - mae: 3.5556 - val_loss: 27.5159 - val_mae: 4.0404\n",
      "Epoch 33/100\n",
      "404/404 [==============================] - 1s 2ms/step - loss: 25.1634 - mae: 3.5897 - val_loss: 28.0238 - val_mae: 3.7088\n",
      "Epoch 34/100\n",
      "404/404 [==============================] - 1s 2ms/step - loss: 24.6465 - mae: 3.5738 - val_loss: 33.4637 - val_mae: 4.7102\n",
      "Epoch 35/100\n",
      "404/404 [==============================] - 1s 2ms/step - loss: 23.8627 - mae: 3.5649 - val_loss: 32.4180 - val_mae: 3.9740\n",
      "Epoch 36/100\n",
      "404/404 [==============================] - 1s 3ms/step - loss: 23.8002 - mae: 3.5734 - val_loss: 32.0316 - val_mae: 3.9938\n",
      "Epoch 37/100\n",
      "404/404 [==============================] - 1s 2ms/step - loss: 22.5816 - mae: 3.4096 - val_loss: 30.5472 - val_mae: 3.8605\n",
      "Epoch 38/100\n",
      "404/404 [==============================] - 1s 2ms/step - loss: 22.1313 - mae: 3.3921 - val_loss: 33.3282 - val_mae: 4.0728\n",
      "Epoch 39/100\n",
      "404/404 [==============================] - 1s 2ms/step - loss: 22.6825 - mae: 3.5022 - val_loss: 26.7016 - val_mae: 3.9291\n",
      "Epoch 40/100\n",
      "404/404 [==============================] - 1s 2ms/step - loss: 23.0091 - mae: 3.4475 - val_loss: 37.9964 - val_mae: 4.3342\n",
      "Epoch 41/100\n",
      "404/404 [==============================] - 1s 2ms/step - loss: 21.6526 - mae: 3.3463 - val_loss: 31.6481 - val_mae: 3.9192\n",
      "Epoch 42/100\n",
      "404/404 [==============================] - 1s 2ms/step - loss: 23.8038 - mae: 3.3302 - val_loss: 33.9996 - val_mae: 4.1532\n",
      "Epoch 43/100\n",
      "404/404 [==============================] - 1s 3ms/step - loss: 20.9078 - mae: 3.2234 - val_loss: 37.1091 - val_mae: 4.2637\n",
      "Epoch 44/100\n",
      "404/404 [==============================] - 1s 3ms/step - loss: 20.5313 - mae: 3.2310 - val_loss: 28.6311 - val_mae: 3.7509\n",
      "Epoch 45/100\n",
      "404/404 [==============================] - 1s 3ms/step - loss: 21.4189 - mae: 3.3515 - val_loss: 26.8958 - val_mae: 3.7343\n",
      "Epoch 46/100\n",
      "404/404 [==============================] - 1s 3ms/step - loss: 19.6808 - mae: 3.2202 - val_loss: 27.4652 - val_mae: 3.8025\n",
      "Epoch 47/100\n",
      "404/404 [==============================] - 1s 3ms/step - loss: 21.3831 - mae: 3.2889 - val_loss: 34.3965 - val_mae: 4.0698\n",
      "Epoch 48/100\n",
      "404/404 [==============================] - 1s 3ms/step - loss: 19.6859 - mae: 3.2733 - val_loss: 30.2344 - val_mae: 3.8771\n",
      "Epoch 49/100\n",
      "404/404 [==============================] - 1s 3ms/step - loss: 20.7440 - mae: 3.2727 - val_loss: 36.6095 - val_mae: 4.2560\n",
      "Epoch 50/100\n",
      "404/404 [==============================] - 1s 3ms/step - loss: 20.3481 - mae: 3.2328 - val_loss: 40.3360 - val_mae: 4.9255\n",
      "Epoch 51/100\n",
      "404/404 [==============================] - 1s 3ms/step - loss: 19.0137 - mae: 3.1117 - val_loss: 33.9378 - val_mae: 4.1984\n",
      "Epoch 52/100\n",
      "404/404 [==============================] - 1s 3ms/step - loss: 20.4448 - mae: 3.1744 - val_loss: 35.9991 - val_mae: 4.2459\n",
      "Epoch 53/100\n",
      "404/404 [==============================] - 1s 3ms/step - loss: 20.2503 - mae: 3.2204 - val_loss: 28.9244 - val_mae: 3.7356\n",
      "Epoch 54/100\n",
      "404/404 [==============================] - 1s 3ms/step - loss: 20.8245 - mae: 3.2729 - val_loss: 27.8014 - val_mae: 3.7183\n",
      "Epoch 55/100\n",
      "404/404 [==============================] - 1s 3ms/step - loss: 18.7685 - mae: 3.0824 - val_loss: 30.6279 - val_mae: 3.8261\n",
      "Epoch 56/100\n",
      "404/404 [==============================] - 1s 3ms/step - loss: 18.6906 - mae: 3.0408 - val_loss: 30.4868 - val_mae: 3.9621\n",
      "Epoch 57/100\n",
      "404/404 [==============================] - 1s 2ms/step - loss: 19.8347 - mae: 3.1302 - val_loss: 26.7950 - val_mae: 3.6319\n",
      "Epoch 58/100\n",
      "404/404 [==============================] - 1s 2ms/step - loss: 19.7575 - mae: 3.1261 - val_loss: 35.1922 - val_mae: 4.1772\n",
      "Epoch 59/100\n",
      "404/404 [==============================] - 1s 2ms/step - loss: 19.1297 - mae: 3.0947 - val_loss: 31.8850 - val_mae: 3.9201\n",
      "Epoch 60/100\n",
      "404/404 [==============================] - 1s 2ms/step - loss: 19.5441 - mae: 3.0724 - val_loss: 31.1163 - val_mae: 4.1629\n",
      "Epoch 61/100\n"
     ]
    },
    {
     "name": "stdout",
     "output_type": "stream",
     "text": [
      "404/404 [==============================] - 1s 2ms/step - loss: 18.6145 - mae: 3.0504 - val_loss: 32.6742 - val_mae: 4.1159\n",
      "Epoch 62/100\n",
      "404/404 [==============================] - 1s 2ms/step - loss: 19.6256 - mae: 3.2387 - val_loss: 30.6685 - val_mae: 3.8194\n",
      "Epoch 63/100\n",
      "404/404 [==============================] - 1s 2ms/step - loss: 18.3891 - mae: 3.0699 - val_loss: 26.3731 - val_mae: 3.5354\n",
      "Epoch 64/100\n",
      "404/404 [==============================] - 1s 2ms/step - loss: 17.7809 - mae: 3.0066 - val_loss: 31.9254 - val_mae: 4.0341\n",
      "Epoch 65/100\n",
      "404/404 [==============================] - 1s 2ms/step - loss: 19.0574 - mae: 3.1550 - val_loss: 29.2519 - val_mae: 3.6547\n",
      "Epoch 66/100\n",
      "404/404 [==============================] - 1s 2ms/step - loss: 18.1142 - mae: 3.0339 - val_loss: 33.0238 - val_mae: 4.1800\n",
      "Epoch 67/100\n",
      "404/404 [==============================] - 1s 2ms/step - loss: 18.6011 - mae: 3.0514 - val_loss: 27.0489 - val_mae: 3.5547\n",
      "Epoch 68/100\n",
      "404/404 [==============================] - 1s 2ms/step - loss: 19.3483 - mae: 3.0389 - val_loss: 32.2039 - val_mae: 4.0967\n",
      "Epoch 69/100\n",
      "404/404 [==============================] - 1s 2ms/step - loss: 18.0581 - mae: 3.0279 - val_loss: 27.4774 - val_mae: 3.5688\n",
      "Epoch 70/100\n",
      "404/404 [==============================] - 1s 2ms/step - loss: 18.4494 - mae: 3.0677 - val_loss: 27.2629 - val_mae: 3.4943\n",
      "Epoch 71/100\n",
      "404/404 [==============================] - 1s 2ms/step - loss: 18.9197 - mae: 3.0419 - val_loss: 33.7181 - val_mae: 4.1290\n",
      "Epoch 72/100\n",
      "404/404 [==============================] - 1s 2ms/step - loss: 18.3307 - mae: 3.0227 - val_loss: 31.3241 - val_mae: 3.8531\n",
      "Epoch 73/100\n",
      "404/404 [==============================] - 1s 2ms/step - loss: 18.7881 - mae: 3.1058 - val_loss: 34.6738 - val_mae: 4.1088\n",
      "Epoch 74/100\n",
      "404/404 [==============================] - 1s 2ms/step - loss: 17.2404 - mae: 2.9056 - val_loss: 36.7790 - val_mae: 4.2516\n",
      "Epoch 75/100\n",
      "404/404 [==============================] - 1s 3ms/step - loss: 18.3975 - mae: 2.9678 - val_loss: 29.8945 - val_mae: 3.6687\n",
      "Epoch 76/100\n",
      "404/404 [==============================] - 1s 2ms/step - loss: 17.8984 - mae: 2.9842 - val_loss: 27.8949 - val_mae: 3.5166\n",
      "Epoch 77/100\n",
      "404/404 [==============================] - 1s 2ms/step - loss: 18.6170 - mae: 3.0750 - val_loss: 36.7042 - val_mae: 4.2411\n",
      "Epoch 78/100\n",
      "404/404 [==============================] - 1s 3ms/step - loss: 17.0971 - mae: 2.8992 - val_loss: 48.9308 - val_mae: 4.9187\n",
      "Epoch 79/100\n",
      "404/404 [==============================] - 1s 2ms/step - loss: 18.2889 - mae: 3.0045 - val_loss: 36.7925 - val_mae: 4.2672\n",
      "Epoch 80/100\n",
      "404/404 [==============================] - 1s 2ms/step - loss: 16.8327 - mae: 2.8475 - val_loss: 30.8992 - val_mae: 3.7572\n",
      "Epoch 81/100\n",
      "404/404 [==============================] - 1s 2ms/step - loss: 18.3590 - mae: 3.0262 - val_loss: 31.8021 - val_mae: 3.7984\n",
      "Epoch 82/100\n",
      "404/404 [==============================] - 1s 2ms/step - loss: 17.1428 - mae: 2.8279 - val_loss: 31.0631 - val_mae: 3.7137\n",
      "Epoch 83/100\n",
      "404/404 [==============================] - 1s 2ms/step - loss: 17.5735 - mae: 2.9737 - val_loss: 30.8802 - val_mae: 3.7737\n",
      "Epoch 84/100\n",
      "404/404 [==============================] - 1s 2ms/step - loss: 17.5865 - mae: 2.9323 - val_loss: 27.6215 - val_mae: 3.5495\n",
      "Epoch 85/100\n",
      "404/404 [==============================] - 1s 2ms/step - loss: 18.5282 - mae: 3.0073 - val_loss: 25.5295 - val_mae: 3.4227\n",
      "Epoch 86/100\n",
      "404/404 [==============================] - 1s 2ms/step - loss: 17.1728 - mae: 2.9091 - val_loss: 34.1801 - val_mae: 3.9420\n",
      "Epoch 87/100\n",
      "404/404 [==============================] - 1s 2ms/step - loss: 18.1341 - mae: 2.9941 - val_loss: 29.9216 - val_mae: 3.6329\n",
      "Epoch 88/100\n",
      "404/404 [==============================] - 1s 2ms/step - loss: 16.2983 - mae: 2.8577 - val_loss: 33.3141 - val_mae: 4.2278\n",
      "Epoch 89/100\n",
      "404/404 [==============================] - 1s 2ms/step - loss: 18.5756 - mae: 3.0322 - val_loss: 25.5193 - val_mae: 3.5896\n",
      "Epoch 90/100\n",
      "404/404 [==============================] - 1s 2ms/step - loss: 15.5498 - mae: 2.8367 - val_loss: 29.1531 - val_mae: 3.6648\n",
      "Epoch 91/100\n",
      "404/404 [==============================] - 1s 3ms/step - loss: 18.1247 - mae: 3.0410 - val_loss: 30.2061 - val_mae: 3.6536\n",
      "Epoch 92/100\n",
      "404/404 [==============================] - 1s 2ms/step - loss: 16.9151 - mae: 2.9145 - val_loss: 27.8498 - val_mae: 3.6036\n",
      "Epoch 93/100\n",
      "404/404 [==============================] - 1s 2ms/step - loss: 17.6691 - mae: 2.9228 - val_loss: 30.7734 - val_mae: 3.7778\n",
      "Epoch 94/100\n",
      "404/404 [==============================] - 1s 2ms/step - loss: 17.1977 - mae: 2.9939 - val_loss: 32.2464 - val_mae: 3.8500\n",
      "Epoch 95/100\n",
      "404/404 [==============================] - 1s 2ms/step - loss: 16.7653 - mae: 2.9515 - val_loss: 30.8152 - val_mae: 3.7898\n",
      "Epoch 96/100\n",
      "404/404 [==============================] - 1s 2ms/step - loss: 17.0219 - mae: 2.8851 - val_loss: 36.2699 - val_mae: 3.9021\n",
      "Epoch 97/100\n",
      "404/404 [==============================] - 1s 2ms/step - loss: 17.7435 - mae: 2.9336 - val_loss: 33.9911 - val_mae: 3.8272\n",
      "Epoch 98/100\n",
      "404/404 [==============================] - 1s 2ms/step - loss: 16.4627 - mae: 2.8065 - val_loss: 31.8500 - val_mae: 3.7641\n",
      "Epoch 99/100\n",
      "404/404 [==============================] - 1s 2ms/step - loss: 17.2579 - mae: 2.9003 - val_loss: 39.1435 - val_mae: 4.1159\n",
      "Epoch 100/100\n",
      "404/404 [==============================] - 1s 2ms/step - loss: 16.2438 - mae: 2.8499 - val_loss: 35.7379 - val_mae: 4.0708\n"
     ]
    }
   ],
   "source": [
    "model=housePricePredictionModel()\n",
    "history=model.fit(x=train_x, y=train_y, epochs=num_epochs, batch_size=1, verbose=1, validation_data=(test_x,test_y))"
   ]
  },
  {
   "cell_type": "code",
   "execution_count": 21,
   "id": "fca12d19",
   "metadata": {},
   "outputs": [
    {
     "name": "stdout",
     "output_type": "stream",
     "text": [
      "Test Mean Absolute Error: 4.07\n"
     ]
    }
   ],
   "source": [
    "loss, mae = model.evaluate(test_x, test_y, verbose=0)\n",
    "\n",
    "print(f'Test Mean Absolute Error: {mae:.2f}')"
   ]
  },
  {
   "cell_type": "code",
   "execution_count": 22,
   "id": "15b58824",
   "metadata": {},
   "outputs": [
    {
     "data": {
      "text/plain": [
       "array([0.02675675, 0.        , 0.02677953, 0.        , 0.0010046 ,\n",
       "       0.00951931, 0.14795322, 0.0027145 , 0.03550877, 0.98536841,\n",
       "       0.02988655, 0.04031725, 0.04298041])"
      ]
     },
     "execution_count": 22,
     "metadata": {},
     "output_type": "execute_result"
    }
   ],
   "source": [
    "test_x[0]"
   ]
  },
  {
   "cell_type": "code",
   "execution_count": 23,
   "id": "f452ce2c",
   "metadata": {},
   "outputs": [
    {
     "data": {
      "text/plain": [
       "7.2"
      ]
     },
     "execution_count": 23,
     "metadata": {},
     "output_type": "execute_result"
    }
   ],
   "source": [
    "test_y[0]"
   ]
  },
  {
   "cell_type": "code",
   "execution_count": 24,
   "id": "6b72658e",
   "metadata": {},
   "outputs": [],
   "source": [
    "inp=[[0.02675675, 0.        , 0.02677953, 0.        , 0.0010046 ,\n",
    "       0.00951931, 0.14795322, 0.0027145 , 0.03550877, 0.98536841,\n",
    "       0.02988655, 0.04031725, 0.04298041]]"
   ]
  },
  {
   "cell_type": "code",
   "execution_count": 25,
   "id": "2edf49d8",
   "metadata": {},
   "outputs": [
    {
     "name": "stdout",
     "output_type": "stream",
     "text": [
      "1/1 [==============================] - 0s 137ms/step\n"
     ]
    },
    {
     "data": {
      "text/plain": [
       "array([[8.649243]], dtype=float32)"
      ]
     },
     "execution_count": 25,
     "metadata": {},
     "output_type": "execute_result"
    }
   ],
   "source": [
    "model.predict(inp)"
   ]
  },
  {
   "cell_type": "code",
   "execution_count": null,
   "id": "040e8973",
   "metadata": {},
   "outputs": [],
   "source": []
  }
 ],
 "metadata": {
  "kernelspec": {
   "display_name": "Python 3 (ipykernel)",
   "language": "python",
   "name": "python3"
  },
  "language_info": {
   "codemirror_mode": {
    "name": "ipython",
    "version": 3
   },
   "file_extension": ".py",
   "mimetype": "text/x-python",
   "name": "python",
   "nbconvert_exporter": "python",
   "pygments_lexer": "ipython3",
   "version": "3.11.3"
  }
 },
 "nbformat": 4,
 "nbformat_minor": 5
}
