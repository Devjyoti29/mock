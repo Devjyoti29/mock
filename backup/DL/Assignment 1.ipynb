{
 "cells": [
  {
   "cell_type": "code",
   "execution_count": 126,
   "id": "5788d8c8",
   "metadata": {},
   "outputs": [],
   "source": [
    "import pandas as pd"
   ]
  },
  {
   "cell_type": "code",
   "execution_count": 127,
   "id": "2c2370ba",
   "metadata": {},
   "outputs": [],
   "source": [
    "df=pd.read_csv('HousingData.csv')"
   ]
  },
  {
   "cell_type": "code",
   "execution_count": 128,
   "id": "5c11c81f",
   "metadata": {},
   "outputs": [
    {
     "data": {
      "text/html": [
       "<div>\n",
       "<style scoped>\n",
       "    .dataframe tbody tr th:only-of-type {\n",
       "        vertical-align: middle;\n",
       "    }\n",
       "\n",
       "    .dataframe tbody tr th {\n",
       "        vertical-align: top;\n",
       "    }\n",
       "\n",
       "    .dataframe thead th {\n",
       "        text-align: right;\n",
       "    }\n",
       "</style>\n",
       "<table border=\"1\" class=\"dataframe\">\n",
       "  <thead>\n",
       "    <tr style=\"text-align: right;\">\n",
       "      <th></th>\n",
       "      <th>CRIM</th>\n",
       "      <th>ZN</th>\n",
       "      <th>INDUS</th>\n",
       "      <th>CHAS</th>\n",
       "      <th>NOX</th>\n",
       "      <th>RM</th>\n",
       "      <th>AGE</th>\n",
       "      <th>DIS</th>\n",
       "      <th>RAD</th>\n",
       "      <th>TAX</th>\n",
       "      <th>PTRATIO</th>\n",
       "      <th>B</th>\n",
       "      <th>LSTAT</th>\n",
       "      <th>MEDV</th>\n",
       "    </tr>\n",
       "  </thead>\n",
       "  <tbody>\n",
       "    <tr>\n",
       "      <th>0</th>\n",
       "      <td>0.00632</td>\n",
       "      <td>18.0</td>\n",
       "      <td>2.31</td>\n",
       "      <td>0.0</td>\n",
       "      <td>0.538</td>\n",
       "      <td>6.575</td>\n",
       "      <td>65.2</td>\n",
       "      <td>4.0900</td>\n",
       "      <td>1</td>\n",
       "      <td>296</td>\n",
       "      <td>15.3</td>\n",
       "      <td>396.90</td>\n",
       "      <td>4.98</td>\n",
       "      <td>24.0</td>\n",
       "    </tr>\n",
       "    <tr>\n",
       "      <th>1</th>\n",
       "      <td>0.02731</td>\n",
       "      <td>0.0</td>\n",
       "      <td>7.07</td>\n",
       "      <td>0.0</td>\n",
       "      <td>0.469</td>\n",
       "      <td>6.421</td>\n",
       "      <td>78.9</td>\n",
       "      <td>4.9671</td>\n",
       "      <td>2</td>\n",
       "      <td>242</td>\n",
       "      <td>17.8</td>\n",
       "      <td>396.90</td>\n",
       "      <td>9.14</td>\n",
       "      <td>21.6</td>\n",
       "    </tr>\n",
       "    <tr>\n",
       "      <th>2</th>\n",
       "      <td>0.02729</td>\n",
       "      <td>0.0</td>\n",
       "      <td>7.07</td>\n",
       "      <td>0.0</td>\n",
       "      <td>0.469</td>\n",
       "      <td>7.185</td>\n",
       "      <td>61.1</td>\n",
       "      <td>4.9671</td>\n",
       "      <td>2</td>\n",
       "      <td>242</td>\n",
       "      <td>17.8</td>\n",
       "      <td>392.83</td>\n",
       "      <td>4.03</td>\n",
       "      <td>34.7</td>\n",
       "    </tr>\n",
       "    <tr>\n",
       "      <th>3</th>\n",
       "      <td>0.03237</td>\n",
       "      <td>0.0</td>\n",
       "      <td>2.18</td>\n",
       "      <td>0.0</td>\n",
       "      <td>0.458</td>\n",
       "      <td>6.998</td>\n",
       "      <td>45.8</td>\n",
       "      <td>6.0622</td>\n",
       "      <td>3</td>\n",
       "      <td>222</td>\n",
       "      <td>18.7</td>\n",
       "      <td>394.63</td>\n",
       "      <td>2.94</td>\n",
       "      <td>33.4</td>\n",
       "    </tr>\n",
       "    <tr>\n",
       "      <th>4</th>\n",
       "      <td>0.06905</td>\n",
       "      <td>0.0</td>\n",
       "      <td>2.18</td>\n",
       "      <td>0.0</td>\n",
       "      <td>0.458</td>\n",
       "      <td>7.147</td>\n",
       "      <td>54.2</td>\n",
       "      <td>6.0622</td>\n",
       "      <td>3</td>\n",
       "      <td>222</td>\n",
       "      <td>18.7</td>\n",
       "      <td>396.90</td>\n",
       "      <td>NaN</td>\n",
       "      <td>36.2</td>\n",
       "    </tr>\n",
       "  </tbody>\n",
       "</table>\n",
       "</div>"
      ],
      "text/plain": [
       "      CRIM    ZN  INDUS  CHAS    NOX     RM   AGE     DIS  RAD  TAX  PTRATIO   \n",
       "0  0.00632  18.0   2.31   0.0  0.538  6.575  65.2  4.0900    1  296     15.3  \\\n",
       "1  0.02731   0.0   7.07   0.0  0.469  6.421  78.9  4.9671    2  242     17.8   \n",
       "2  0.02729   0.0   7.07   0.0  0.469  7.185  61.1  4.9671    2  242     17.8   \n",
       "3  0.03237   0.0   2.18   0.0  0.458  6.998  45.8  6.0622    3  222     18.7   \n",
       "4  0.06905   0.0   2.18   0.0  0.458  7.147  54.2  6.0622    3  222     18.7   \n",
       "\n",
       "        B  LSTAT  MEDV  \n",
       "0  396.90   4.98  24.0  \n",
       "1  396.90   9.14  21.6  \n",
       "2  392.83   4.03  34.7  \n",
       "3  394.63   2.94  33.4  \n",
       "4  396.90    NaN  36.2  "
      ]
     },
     "execution_count": 128,
     "metadata": {},
     "output_type": "execute_result"
    }
   ],
   "source": [
    "df.head()"
   ]
  },
  {
   "cell_type": "code",
   "execution_count": 129,
   "id": "b55afccf",
   "metadata": {},
   "outputs": [
    {
     "data": {
      "text/plain": [
       "CRIM       20\n",
       "ZN         20\n",
       "INDUS      20\n",
       "CHAS       20\n",
       "NOX         0\n",
       "RM          0\n",
       "AGE        20\n",
       "DIS         0\n",
       "RAD         0\n",
       "TAX         0\n",
       "PTRATIO     0\n",
       "B           0\n",
       "LSTAT      20\n",
       "MEDV        0\n",
       "dtype: int64"
      ]
     },
     "execution_count": 129,
     "metadata": {},
     "output_type": "execute_result"
    }
   ],
   "source": [
    "df.isna().sum()"
   ]
  },
  {
   "cell_type": "code",
   "execution_count": 130,
   "id": "fa80bda9",
   "metadata": {},
   "outputs": [],
   "source": [
    "df.dropna(inplace=True)"
   ]
  },
  {
   "cell_type": "code",
   "execution_count": 106,
   "id": "b3524540",
   "metadata": {},
   "outputs": [],
   "source": [
    "y=df['MEDV']"
   ]
  },
  {
   "cell_type": "code",
   "execution_count": 132,
   "id": "27293f79",
   "metadata": {},
   "outputs": [],
   "source": [
    "from sklearn import preprocessing\n",
    "xtrain=preprocessing.normalize(xtrain)\n",
    "xtest=preprocessing.normalize(xtest)"
   ]
  },
  {
   "cell_type": "code",
   "execution_count": null,
   "id": "a90c2d3c",
   "metadata": {},
   "outputs": [],
   "source": []
  },
  {
   "cell_type": "code",
   "execution_count": 133,
   "id": "3a18be6e",
   "metadata": {},
   "outputs": [],
   "source": [
    "x=df.drop(columns=['MEDV'],axis=1)"
   ]
  },
  {
   "cell_type": "code",
   "execution_count": 134,
   "id": "ba04d6e7",
   "metadata": {},
   "outputs": [
    {
     "data": {
      "text/html": [
       "<div>\n",
       "<style scoped>\n",
       "    .dataframe tbody tr th:only-of-type {\n",
       "        vertical-align: middle;\n",
       "    }\n",
       "\n",
       "    .dataframe tbody tr th {\n",
       "        vertical-align: top;\n",
       "    }\n",
       "\n",
       "    .dataframe thead th {\n",
       "        text-align: right;\n",
       "    }\n",
       "</style>\n",
       "<table border=\"1\" class=\"dataframe\">\n",
       "  <thead>\n",
       "    <tr style=\"text-align: right;\">\n",
       "      <th></th>\n",
       "      <th>CRIM</th>\n",
       "      <th>ZN</th>\n",
       "      <th>INDUS</th>\n",
       "      <th>CHAS</th>\n",
       "      <th>NOX</th>\n",
       "      <th>RM</th>\n",
       "      <th>AGE</th>\n",
       "      <th>DIS</th>\n",
       "      <th>RAD</th>\n",
       "      <th>TAX</th>\n",
       "      <th>PTRATIO</th>\n",
       "      <th>B</th>\n",
       "      <th>LSTAT</th>\n",
       "    </tr>\n",
       "  </thead>\n",
       "  <tbody>\n",
       "    <tr>\n",
       "      <th>0</th>\n",
       "      <td>0.00632</td>\n",
       "      <td>18.0</td>\n",
       "      <td>2.31</td>\n",
       "      <td>0.0</td>\n",
       "      <td>0.538</td>\n",
       "      <td>6.575</td>\n",
       "      <td>65.2</td>\n",
       "      <td>4.0900</td>\n",
       "      <td>1</td>\n",
       "      <td>296</td>\n",
       "      <td>15.3</td>\n",
       "      <td>396.90</td>\n",
       "      <td>4.98</td>\n",
       "    </tr>\n",
       "    <tr>\n",
       "      <th>1</th>\n",
       "      <td>0.02731</td>\n",
       "      <td>0.0</td>\n",
       "      <td>7.07</td>\n",
       "      <td>0.0</td>\n",
       "      <td>0.469</td>\n",
       "      <td>6.421</td>\n",
       "      <td>78.9</td>\n",
       "      <td>4.9671</td>\n",
       "      <td>2</td>\n",
       "      <td>242</td>\n",
       "      <td>17.8</td>\n",
       "      <td>396.90</td>\n",
       "      <td>9.14</td>\n",
       "    </tr>\n",
       "    <tr>\n",
       "      <th>2</th>\n",
       "      <td>0.02729</td>\n",
       "      <td>0.0</td>\n",
       "      <td>7.07</td>\n",
       "      <td>0.0</td>\n",
       "      <td>0.469</td>\n",
       "      <td>7.185</td>\n",
       "      <td>61.1</td>\n",
       "      <td>4.9671</td>\n",
       "      <td>2</td>\n",
       "      <td>242</td>\n",
       "      <td>17.8</td>\n",
       "      <td>392.83</td>\n",
       "      <td>4.03</td>\n",
       "    </tr>\n",
       "    <tr>\n",
       "      <th>3</th>\n",
       "      <td>0.03237</td>\n",
       "      <td>0.0</td>\n",
       "      <td>2.18</td>\n",
       "      <td>0.0</td>\n",
       "      <td>0.458</td>\n",
       "      <td>6.998</td>\n",
       "      <td>45.8</td>\n",
       "      <td>6.0622</td>\n",
       "      <td>3</td>\n",
       "      <td>222</td>\n",
       "      <td>18.7</td>\n",
       "      <td>394.63</td>\n",
       "      <td>2.94</td>\n",
       "    </tr>\n",
       "    <tr>\n",
       "      <th>5</th>\n",
       "      <td>0.02985</td>\n",
       "      <td>0.0</td>\n",
       "      <td>2.18</td>\n",
       "      <td>0.0</td>\n",
       "      <td>0.458</td>\n",
       "      <td>6.430</td>\n",
       "      <td>58.7</td>\n",
       "      <td>6.0622</td>\n",
       "      <td>3</td>\n",
       "      <td>222</td>\n",
       "      <td>18.7</td>\n",
       "      <td>394.12</td>\n",
       "      <td>5.21</td>\n",
       "    </tr>\n",
       "  </tbody>\n",
       "</table>\n",
       "</div>"
      ],
      "text/plain": [
       "      CRIM    ZN  INDUS  CHAS    NOX     RM   AGE     DIS  RAD  TAX  PTRATIO   \n",
       "0  0.00632  18.0   2.31   0.0  0.538  6.575  65.2  4.0900    1  296     15.3  \\\n",
       "1  0.02731   0.0   7.07   0.0  0.469  6.421  78.9  4.9671    2  242     17.8   \n",
       "2  0.02729   0.0   7.07   0.0  0.469  7.185  61.1  4.9671    2  242     17.8   \n",
       "3  0.03237   0.0   2.18   0.0  0.458  6.998  45.8  6.0622    3  222     18.7   \n",
       "5  0.02985   0.0   2.18   0.0  0.458  6.430  58.7  6.0622    3  222     18.7   \n",
       "\n",
       "        B  LSTAT  \n",
       "0  396.90   4.98  \n",
       "1  396.90   9.14  \n",
       "2  392.83   4.03  \n",
       "3  394.63   2.94  \n",
       "5  394.12   5.21  "
      ]
     },
     "execution_count": 134,
     "metadata": {},
     "output_type": "execute_result"
    }
   ],
   "source": [
    "x.head()"
   ]
  },
  {
   "cell_type": "code",
   "execution_count": 135,
   "id": "b99e8c73",
   "metadata": {},
   "outputs": [],
   "source": [
    "x=x.to_numpy()"
   ]
  },
  {
   "cell_type": "code",
   "execution_count": 136,
   "id": "54aa45d6",
   "metadata": {},
   "outputs": [
    {
     "ename": "AttributeError",
     "evalue": "'numpy.ndarray' object has no attribute 'to_numpy'",
     "output_type": "error",
     "traceback": [
      "\u001b[1;31m---------------------------------------------------------------------------\u001b[0m",
      "\u001b[1;31mAttributeError\u001b[0m                            Traceback (most recent call last)",
      "Cell \u001b[1;32mIn[136], line 1\u001b[0m\n\u001b[1;32m----> 1\u001b[0m y\u001b[38;5;241m=\u001b[39m\u001b[43my\u001b[49m\u001b[38;5;241;43m.\u001b[39;49m\u001b[43mto_numpy\u001b[49m()\n",
      "\u001b[1;31mAttributeError\u001b[0m: 'numpy.ndarray' object has no attribute 'to_numpy'"
     ]
    }
   ],
   "source": [
    "y=y.to_numpy()"
   ]
  },
  {
   "cell_type": "code",
   "execution_count": 137,
   "id": "632ffa5b",
   "metadata": {},
   "outputs": [
    {
     "data": {
      "text/plain": [
       "array([[6.3200e-03, 1.8000e+01, 2.3100e+00, 0.0000e+00, 5.3800e-01,\n",
       "        6.5750e+00, 6.5200e+01, 4.0900e+00, 1.0000e+00, 2.9600e+02,\n",
       "        1.5300e+01, 3.9690e+02, 4.9800e+00],\n",
       "       [2.7310e-02, 0.0000e+00, 7.0700e+00, 0.0000e+00, 4.6900e-01,\n",
       "        6.4210e+00, 7.8900e+01, 4.9671e+00, 2.0000e+00, 2.4200e+02,\n",
       "        1.7800e+01, 3.9690e+02, 9.1400e+00],\n",
       "       [2.7290e-02, 0.0000e+00, 7.0700e+00, 0.0000e+00, 4.6900e-01,\n",
       "        7.1850e+00, 6.1100e+01, 4.9671e+00, 2.0000e+00, 2.4200e+02,\n",
       "        1.7800e+01, 3.9283e+02, 4.0300e+00],\n",
       "       [3.2370e-02, 0.0000e+00, 2.1800e+00, 0.0000e+00, 4.5800e-01,\n",
       "        6.9980e+00, 4.5800e+01, 6.0622e+00, 3.0000e+00, 2.2200e+02,\n",
       "        1.8700e+01, 3.9463e+02, 2.9400e+00],\n",
       "       [2.9850e-02, 0.0000e+00, 2.1800e+00, 0.0000e+00, 4.5800e-01,\n",
       "        6.4300e+00, 5.8700e+01, 6.0622e+00, 3.0000e+00, 2.2200e+02,\n",
       "        1.8700e+01, 3.9412e+02, 5.2100e+00]])"
      ]
     },
     "execution_count": 137,
     "metadata": {},
     "output_type": "execute_result"
    }
   ],
   "source": [
    "x[:5]"
   ]
  },
  {
   "cell_type": "code",
   "execution_count": 138,
   "id": "585c53b2",
   "metadata": {},
   "outputs": [
    {
     "data": {
      "text/plain": [
       "(13,)"
      ]
     },
     "execution_count": 138,
     "metadata": {},
     "output_type": "execute_result"
    }
   ],
   "source": [
    "x[0].shape"
   ]
  },
  {
   "cell_type": "code",
   "execution_count": 139,
   "id": "43e2b15a",
   "metadata": {},
   "outputs": [],
   "source": [
    "from sklearn.model_selection import train_test_split"
   ]
  },
  {
   "cell_type": "code",
   "execution_count": 140,
   "id": "f7ce9002",
   "metadata": {},
   "outputs": [],
   "source": [
    "xtrain,xtest,ytraim,ytest=train_test_split(x,y,test_size=0.3,random_state=42)"
   ]
  },
  {
   "cell_type": "code",
   "execution_count": 141,
   "id": "4396d9f6",
   "metadata": {},
   "outputs": [
    {
     "data": {
      "text/plain": [
       "(275, 13)"
      ]
     },
     "execution_count": 141,
     "metadata": {},
     "output_type": "execute_result"
    }
   ],
   "source": [
    "xtrain.shape"
   ]
  },
  {
   "cell_type": "code",
   "execution_count": 142,
   "id": "deae3cc6",
   "metadata": {},
   "outputs": [],
   "source": [
    "from tensorflow.keras import models\n",
    "from tensorflow.keras import layers"
   ]
  },
  {
   "cell_type": "code",
   "execution_count": 143,
   "id": "bfedb883",
   "metadata": {},
   "outputs": [],
   "source": [
    "ann =models.Sequential([\n",
    "layers.Dense(128,activation='relu',input_dim=13),\n",
    "layers.Dense(64,activation='relu'),\n",
    "layers.Dense(32,activation='relu'),\n",
    "layers.Dense(1)\n",
    "]\n",
    ")"
   ]
  },
  {
   "cell_type": "code",
   "execution_count": 144,
   "id": "5b7d455f",
   "metadata": {},
   "outputs": [],
   "source": [
    "ann.compile(optimizer='rmsprop',\n",
    "           loss='mse',\n",
    "           metrics=['mae'])"
   ]
  },
  {
   "cell_type": "code",
   "execution_count": 145,
   "id": "78310ef4",
   "metadata": {},
   "outputs": [
    {
     "name": "stdout",
     "output_type": "stream",
     "text": [
      "Epoch 1/100\n",
      "9/9 [==============================] - 1s 4ms/step - loss: 502.8671 - mae: 14.3771\n",
      "Epoch 2/100\n",
      "9/9 [==============================] - 0s 4ms/step - loss: 90.9867 - mae: 7.3273\n",
      "Epoch 3/100\n",
      "9/9 [==============================] - 0s 2ms/step - loss: 124.5772 - mae: 9.4435\n",
      "Epoch 4/100\n",
      "9/9 [==============================] - 0s 4ms/step - loss: 137.8819 - mae: 9.1702\n",
      "Epoch 5/100\n",
      "9/9 [==============================] - 0s 4ms/step - loss: 76.0371 - mae: 6.5400\n",
      "Epoch 6/100\n",
      "9/9 [==============================] - 0s 4ms/step - loss: 181.5922 - mae: 10.9808\n",
      "Epoch 7/100\n",
      "9/9 [==============================] - 0s 4ms/step - loss: 67.5627 - mae: 6.4163\n",
      "Epoch 8/100\n",
      "9/9 [==============================] - 0s 2ms/step - loss: 80.9275 - mae: 7.1343\n",
      "Epoch 9/100\n",
      "9/9 [==============================] - 0s 4ms/step - loss: 144.9557 - mae: 9.4035\n",
      "Epoch 10/100\n",
      "9/9 [==============================] - 0s 2ms/step - loss: 91.3633 - mae: 7.3271\n",
      "Epoch 11/100\n",
      "9/9 [==============================] - 0s 4ms/step - loss: 110.7423 - mae: 8.0979\n",
      "Epoch 12/100\n",
      "9/9 [==============================] - 0s 4ms/step - loss: 102.7157 - mae: 8.0158\n",
      "Epoch 13/100\n",
      "9/9 [==============================] - 0s 4ms/step - loss: 71.7810 - mae: 6.4680\n",
      "Epoch 14/100\n",
      "9/9 [==============================] - 0s 2ms/step - loss: 69.7149 - mae: 6.5125\n",
      "Epoch 15/100\n",
      "9/9 [==============================] - 0s 4ms/step - loss: 76.1819 - mae: 6.5911\n",
      "Epoch 16/100\n",
      "9/9 [==============================] - 0s 4ms/step - loss: 76.2121 - mae: 6.8264\n",
      "Epoch 17/100\n",
      "9/9 [==============================] - 0s 4ms/step - loss: 67.8023 - mae: 6.3510\n",
      "Epoch 18/100\n",
      "9/9 [==============================] - 0s 4ms/step - loss: 59.7836 - mae: 5.7637\n",
      "Epoch 19/100\n",
      "9/9 [==============================] - 0s 4ms/step - loss: 82.4540 - mae: 6.8017\n",
      "Epoch 20/100\n",
      "9/9 [==============================] - 0s 4ms/step - loss: 56.9631 - mae: 5.7055\n",
      "Epoch 21/100\n",
      "9/9 [==============================] - 0s 2ms/step - loss: 76.2718 - mae: 6.8382\n",
      "Epoch 22/100\n",
      "9/9 [==============================] - 0s 4ms/step - loss: 58.3163 - mae: 5.8814\n",
      "Epoch 23/100\n",
      "9/9 [==============================] - 0s 2ms/step - loss: 47.9109 - mae: 5.1070\n",
      "Epoch 24/100\n",
      "9/9 [==============================] - 0s 4ms/step - loss: 69.0096 - mae: 6.5621\n",
      "Epoch 25/100\n",
      "9/9 [==============================] - 0s 4ms/step - loss: 57.4375 - mae: 5.6286\n",
      "Epoch 26/100\n",
      "9/9 [==============================] - 0s 4ms/step - loss: 56.4009 - mae: 5.5956\n",
      "Epoch 27/100\n",
      "9/9 [==============================] - 0s 2ms/step - loss: 50.0034 - mae: 5.2838\n",
      "Epoch 28/100\n",
      "9/9 [==============================] - 0s 4ms/step - loss: 70.7743 - mae: 6.3525\n",
      "Epoch 29/100\n",
      "9/9 [==============================] - 0s 4ms/step - loss: 44.1585 - mae: 4.9144\n",
      "Epoch 30/100\n",
      "9/9 [==============================] - 0s 4ms/step - loss: 56.0258 - mae: 5.6948\n",
      "Epoch 31/100\n",
      "9/9 [==============================] - 0s 4ms/step - loss: 55.1445 - mae: 5.5587\n",
      "Epoch 32/100\n",
      "9/9 [==============================] - 0s 4ms/step - loss: 50.9764 - mae: 5.3465\n",
      "Epoch 33/100\n",
      "9/9 [==============================] - 0s 6ms/step - loss: 53.8649 - mae: 5.3734\n",
      "Epoch 34/100\n",
      "9/9 [==============================] - 0s 4ms/step - loss: 59.3947 - mae: 5.7385\n",
      "Epoch 35/100\n",
      "9/9 [==============================] - 0s 4ms/step - loss: 46.9793 - mae: 5.0252\n",
      "Epoch 36/100\n",
      "9/9 [==============================] - 0s 4ms/step - loss: 42.7308 - mae: 4.8211\n",
      "Epoch 37/100\n",
      "9/9 [==============================] - 0s 4ms/step - loss: 53.6823 - mae: 5.5591\n",
      "Epoch 38/100\n",
      "9/9 [==============================] - 0s 4ms/step - loss: 49.8886 - mae: 5.0872\n",
      "Epoch 39/100\n",
      "9/9 [==============================] - 0s 4ms/step - loss: 40.5012 - mae: 4.5305\n",
      "Epoch 40/100\n",
      "9/9 [==============================] - 0s 2ms/step - loss: 49.0871 - mae: 5.0907\n",
      "Epoch 41/100\n",
      "9/9 [==============================] - 0s 2ms/step - loss: 40.9347 - mae: 4.5848\n",
      "Epoch 42/100\n",
      "9/9 [==============================] - 0s 4ms/step - loss: 52.8759 - mae: 5.5639\n",
      "Epoch 43/100\n",
      "9/9 [==============================] - 0s 4ms/step - loss: 38.0286 - mae: 4.4895\n",
      "Epoch 44/100\n",
      "9/9 [==============================] - 0s 4ms/step - loss: 49.1971 - mae: 5.1058\n",
      "Epoch 45/100\n",
      "9/9 [==============================] - 0s 2ms/step - loss: 50.0067 - mae: 5.2005\n",
      "Epoch 46/100\n",
      "9/9 [==============================] - 0s 2ms/step - loss: 40.7267 - mae: 4.6005\n",
      "Epoch 47/100\n",
      "9/9 [==============================] - 0s 4ms/step - loss: 46.9290 - mae: 4.9981\n",
      "Epoch 48/100\n",
      "9/9 [==============================] - 0s 4ms/step - loss: 46.9692 - mae: 4.9832\n",
      "Epoch 49/100\n",
      "9/9 [==============================] - 0s 4ms/step - loss: 37.4878 - mae: 4.5108\n",
      "Epoch 50/100\n",
      "9/9 [==============================] - 0s 4ms/step - loss: 51.9262 - mae: 5.3478\n",
      "Epoch 51/100\n",
      "9/9 [==============================] - 0s 4ms/step - loss: 34.7750 - mae: 4.2944\n",
      "Epoch 52/100\n",
      "9/9 [==============================] - 0s 2ms/step - loss: 39.6626 - mae: 4.4467\n",
      "Epoch 53/100\n",
      "9/9 [==============================] - 0s 4ms/step - loss: 41.8659 - mae: 4.6538\n",
      "Epoch 54/100\n",
      "9/9 [==============================] - 0s 6ms/step - loss: 38.8003 - mae: 4.3312\n",
      "Epoch 55/100\n",
      "9/9 [==============================] - 0s 4ms/step - loss: 47.7812 - mae: 5.1457\n",
      "Epoch 56/100\n",
      "9/9 [==============================] - 0s 4ms/step - loss: 42.4323 - mae: 4.6652\n",
      "Epoch 57/100\n",
      "9/9 [==============================] - 0s 4ms/step - loss: 33.3161 - mae: 4.0449\n",
      "Epoch 58/100\n",
      "9/9 [==============================] - 0s 4ms/step - loss: 41.0103 - mae: 4.6255\n",
      "Epoch 59/100\n",
      "9/9 [==============================] - 0s 4ms/step - loss: 37.0636 - mae: 4.4213\n",
      "Epoch 60/100\n",
      "9/9 [==============================] - 0s 2ms/step - loss: 40.5333 - mae: 4.7491\n",
      "Epoch 61/100\n",
      "9/9 [==============================] - 0s 4ms/step - loss: 41.2492 - mae: 4.6223\n",
      "Epoch 62/100\n",
      "9/9 [==============================] - 0s 2ms/step - loss: 32.1768 - mae: 4.0380\n",
      "Epoch 63/100\n",
      "9/9 [==============================] - 0s 2ms/step - loss: 42.1336 - mae: 4.6097\n",
      "Epoch 64/100\n",
      "9/9 [==============================] - 0s 2ms/step - loss: 43.6229 - mae: 4.9734\n",
      "Epoch 65/100\n",
      "9/9 [==============================] - 0s 4ms/step - loss: 38.6883 - mae: 4.4959\n",
      "Epoch 66/100\n",
      "9/9 [==============================] - 0s 4ms/step - loss: 30.9450 - mae: 3.8429\n",
      "Epoch 67/100\n",
      "9/9 [==============================] - 0s 4ms/step - loss: 39.5716 - mae: 4.7501\n",
      "Epoch 68/100\n",
      "9/9 [==============================] - 0s 4ms/step - loss: 32.2398 - mae: 3.9711\n",
      "Epoch 69/100\n",
      "9/9 [==============================] - 0s 2ms/step - loss: 44.5797 - mae: 4.9394\n",
      "Epoch 70/100\n",
      "9/9 [==============================] - 0s 2ms/step - loss: 30.6697 - mae: 3.9107\n",
      "Epoch 71/100\n",
      "9/9 [==============================] - 0s 2ms/step - loss: 38.2938 - mae: 4.3522\n",
      "Epoch 72/100\n",
      "9/9 [==============================] - 0s 2ms/step - loss: 33.4295 - mae: 4.1855\n",
      "Epoch 73/100\n",
      "9/9 [==============================] - 0s 2ms/step - loss: 34.5935 - mae: 4.4867\n",
      "Epoch 74/100\n",
      "9/9 [==============================] - 0s 4ms/step - loss: 36.8514 - mae: 4.3404\n",
      "Epoch 75/100\n",
      "9/9 [==============================] - 0s 4ms/step - loss: 36.8627 - mae: 4.4730\n",
      "Epoch 76/100\n",
      "9/9 [==============================] - 0s 4ms/step - loss: 32.3046 - mae: 4.0385\n",
      "Epoch 77/100\n",
      "9/9 [==============================] - 0s 2ms/step - loss: 31.1635 - mae: 3.9236\n",
      "Epoch 78/100\n",
      "9/9 [==============================] - 0s 4ms/step - loss: 32.8868 - mae: 4.2905\n",
      "Epoch 79/100\n",
      "9/9 [==============================] - 0s 4ms/step - loss: 34.0739 - mae: 4.2943\n",
      "Epoch 80/100\n",
      "9/9 [==============================] - 0s 2ms/step - loss: 32.4986 - mae: 4.2363\n",
      "Epoch 81/100\n",
      "9/9 [==============================] - 0s 4ms/step - loss: 33.8885 - mae: 4.2152\n",
      "Epoch 82/100\n",
      "9/9 [==============================] - 0s 2ms/step - loss: 37.2892 - mae: 4.4555\n",
      "Epoch 83/100\n",
      "9/9 [==============================] - 0s 2ms/step - loss: 30.6076 - mae: 3.9899\n",
      "Epoch 84/100\n",
      "9/9 [==============================] - 0s 2ms/step - loss: 31.0510 - mae: 3.9216\n",
      "Epoch 85/100\n",
      "9/9 [==============================] - 0s 2ms/step - loss: 31.7580 - mae: 3.9758\n",
      "Epoch 86/100\n",
      "9/9 [==============================] - 0s 2ms/step - loss: 31.9169 - mae: 3.8625\n",
      "Epoch 87/100\n",
      "9/9 [==============================] - 0s 2ms/step - loss: 34.3633 - mae: 4.3038\n",
      "Epoch 88/100\n"
     ]
    },
    {
     "name": "stdout",
     "output_type": "stream",
     "text": [
      "9/9 [==============================] - 0s 2ms/step - loss: 28.0196 - mae: 3.7687\n",
      "Epoch 89/100\n",
      "9/9 [==============================] - 0s 4ms/step - loss: 33.6314 - mae: 4.1744\n",
      "Epoch 90/100\n",
      "9/9 [==============================] - 0s 4ms/step - loss: 33.8434 - mae: 4.2248\n",
      "Epoch 91/100\n",
      "9/9 [==============================] - 0s 4ms/step - loss: 24.7807 - mae: 3.5140\n",
      "Epoch 92/100\n",
      "9/9 [==============================] - 0s 4ms/step - loss: 30.8514 - mae: 4.0599\n",
      "Epoch 93/100\n",
      "9/9 [==============================] - 0s 4ms/step - loss: 34.1263 - mae: 4.3566\n",
      "Epoch 94/100\n",
      "9/9 [==============================] - 0s 4ms/step - loss: 28.7464 - mae: 3.9063\n",
      "Epoch 95/100\n",
      "9/9 [==============================] - 0s 4ms/step - loss: 28.8226 - mae: 3.8593\n",
      "Epoch 96/100\n",
      "9/9 [==============================] - 0s 2ms/step - loss: 33.0453 - mae: 4.2438\n",
      "Epoch 97/100\n",
      "9/9 [==============================] - 0s 2ms/step - loss: 23.5365 - mae: 3.4675\n",
      "Epoch 98/100\n",
      "9/9 [==============================] - 0s 2ms/step - loss: 37.2170 - mae: 4.3285\n",
      "Epoch 99/100\n",
      "9/9 [==============================] - 0s 4ms/step - loss: 28.3359 - mae: 3.8502\n",
      "Epoch 100/100\n",
      "9/9 [==============================] - 0s 4ms/step - loss: 34.4620 - mae: 4.2597\n"
     ]
    },
    {
     "data": {
      "text/plain": [
       "<keras.callbacks.History at 0x21b9c71ced0>"
      ]
     },
     "execution_count": 145,
     "metadata": {},
     "output_type": "execute_result"
    }
   ],
   "source": [
    "ann.fit(xtrain,ytraim,epochs=100)"
   ]
  },
  {
   "cell_type": "code",
   "execution_count": 146,
   "id": "c57008d4",
   "metadata": {},
   "outputs": [
    {
     "name": "stdout",
     "output_type": "stream",
     "text": [
      "4/4 [==============================] - 0s 0s/step - loss: 45.1451 - mae: 4.9048\n"
     ]
    },
    {
     "data": {
      "text/plain": [
       "[45.14506530761719, 4.904785633087158]"
      ]
     },
     "execution_count": 146,
     "metadata": {},
     "output_type": "execute_result"
    }
   ],
   "source": [
    "ann.evaluate(xtest,ytest)"
   ]
  },
  {
   "cell_type": "code",
   "execution_count": 147,
   "id": "36a2d368",
   "metadata": {},
   "outputs": [
    {
     "name": "stdout",
     "output_type": "stream",
     "text": [
      "4/4 [==============================] - 0s 5ms/step\n"
     ]
    }
   ],
   "source": [
    "ypred=ann.predict(xtest)"
   ]
  },
  {
   "cell_type": "code",
   "execution_count": 150,
   "id": "7fd729ca",
   "metadata": {},
   "outputs": [
    {
     "data": {
      "text/plain": [
       "array([33.8, 19.7, 24.8, 32. , 14. , 21.7])"
      ]
     },
     "execution_count": 150,
     "metadata": {},
     "output_type": "execute_result"
    }
   ],
   "source": [
    "ytest[5:11]"
   ]
  },
  {
   "cell_type": "code",
   "execution_count": 151,
   "id": "a7368a9f",
   "metadata": {},
   "outputs": [
    {
     "data": {
      "text/plain": [
       "array([[30.211191],\n",
       "       [23.897003],\n",
       "       [28.859758],\n",
       "       [29.768116],\n",
       "       [16.902658],\n",
       "       [23.439768]], dtype=float32)"
      ]
     },
     "execution_count": 151,
     "metadata": {},
     "output_type": "execute_result"
    }
   ],
   "source": [
    "ypred[5:11]"
   ]
  },
  {
   "cell_type": "code",
   "execution_count": null,
   "id": "30e1f8a9",
   "metadata": {},
   "outputs": [],
   "source": []
  }
 ],
 "metadata": {
  "kernelspec": {
   "display_name": "Python 3 (ipykernel)",
   "language": "python",
   "name": "python3"
  },
  "language_info": {
   "codemirror_mode": {
    "name": "ipython",
    "version": 3
   },
   "file_extension": ".py",
   "mimetype": "text/x-python",
   "name": "python",
   "nbconvert_exporter": "python",
   "pygments_lexer": "ipython3",
   "version": "3.11.3"
  }
 },
 "nbformat": 4,
 "nbformat_minor": 5
}
