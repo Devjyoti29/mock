{
 "cells": [
  {
   "cell_type": "code",
   "execution_count": 1,
   "id": "d2ac3bb3",
   "metadata": {},
   "outputs": [],
   "source": [
    "import pandas as pd"
   ]
  },
  {
   "cell_type": "code",
   "execution_count": 2,
   "id": "c0c375e2",
   "metadata": {},
   "outputs": [],
   "source": [
    "df=pd.read_csv('IMDB Dataset.csv')"
   ]
  },
  {
   "cell_type": "code",
   "execution_count": 3,
   "id": "a00d4382",
   "metadata": {},
   "outputs": [
    {
     "data": {
      "text/html": [
       "<div>\n",
       "<style scoped>\n",
       "    .dataframe tbody tr th:only-of-type {\n",
       "        vertical-align: middle;\n",
       "    }\n",
       "\n",
       "    .dataframe tbody tr th {\n",
       "        vertical-align: top;\n",
       "    }\n",
       "\n",
       "    .dataframe thead th {\n",
       "        text-align: right;\n",
       "    }\n",
       "</style>\n",
       "<table border=\"1\" class=\"dataframe\">\n",
       "  <thead>\n",
       "    <tr style=\"text-align: right;\">\n",
       "      <th></th>\n",
       "      <th>review</th>\n",
       "      <th>sentiment</th>\n",
       "    </tr>\n",
       "  </thead>\n",
       "  <tbody>\n",
       "    <tr>\n",
       "      <th>0</th>\n",
       "      <td>One of the other reviewers has mentioned that ...</td>\n",
       "      <td>positive</td>\n",
       "    </tr>\n",
       "    <tr>\n",
       "      <th>1</th>\n",
       "      <td>A wonderful little production. &lt;br /&gt;&lt;br /&gt;The...</td>\n",
       "      <td>positive</td>\n",
       "    </tr>\n",
       "    <tr>\n",
       "      <th>2</th>\n",
       "      <td>I thought this was a wonderful way to spend ti...</td>\n",
       "      <td>positive</td>\n",
       "    </tr>\n",
       "    <tr>\n",
       "      <th>3</th>\n",
       "      <td>Basically there's a family where a little boy ...</td>\n",
       "      <td>negative</td>\n",
       "    </tr>\n",
       "    <tr>\n",
       "      <th>4</th>\n",
       "      <td>Petter Mattei's \"Love in the Time of Money\" is...</td>\n",
       "      <td>positive</td>\n",
       "    </tr>\n",
       "  </tbody>\n",
       "</table>\n",
       "</div>"
      ],
      "text/plain": [
       "                                              review sentiment\n",
       "0  One of the other reviewers has mentioned that ...  positive\n",
       "1  A wonderful little production. <br /><br />The...  positive\n",
       "2  I thought this was a wonderful way to spend ti...  positive\n",
       "3  Basically there's a family where a little boy ...  negative\n",
       "4  Petter Mattei's \"Love in the Time of Money\" is...  positive"
      ]
     },
     "execution_count": 3,
     "metadata": {},
     "output_type": "execute_result"
    }
   ],
   "source": [
    "df.sample(1000)\n",
    "df.head()"
   ]
  },
  {
   "cell_type": "code",
   "execution_count": 4,
   "id": "6f79ea8e",
   "metadata": {},
   "outputs": [],
   "source": [
    "df['sentiment'].replace({'positive':1 , 'negative':0} , inplace=True)"
   ]
  },
  {
   "cell_type": "code",
   "execution_count": 5,
   "id": "18eaa2f4",
   "metadata": {},
   "outputs": [
    {
     "data": {
      "text/html": [
       "<div>\n",
       "<style scoped>\n",
       "    .dataframe tbody tr th:only-of-type {\n",
       "        vertical-align: middle;\n",
       "    }\n",
       "\n",
       "    .dataframe tbody tr th {\n",
       "        vertical-align: top;\n",
       "    }\n",
       "\n",
       "    .dataframe thead th {\n",
       "        text-align: right;\n",
       "    }\n",
       "</style>\n",
       "<table border=\"1\" class=\"dataframe\">\n",
       "  <thead>\n",
       "    <tr style=\"text-align: right;\">\n",
       "      <th></th>\n",
       "      <th>review</th>\n",
       "      <th>sentiment</th>\n",
       "    </tr>\n",
       "  </thead>\n",
       "  <tbody>\n",
       "    <tr>\n",
       "      <th>0</th>\n",
       "      <td>One of the other reviewers has mentioned that ...</td>\n",
       "      <td>1</td>\n",
       "    </tr>\n",
       "    <tr>\n",
       "      <th>1</th>\n",
       "      <td>A wonderful little production. &lt;br /&gt;&lt;br /&gt;The...</td>\n",
       "      <td>1</td>\n",
       "    </tr>\n",
       "    <tr>\n",
       "      <th>2</th>\n",
       "      <td>I thought this was a wonderful way to spend ti...</td>\n",
       "      <td>1</td>\n",
       "    </tr>\n",
       "    <tr>\n",
       "      <th>3</th>\n",
       "      <td>Basically there's a family where a little boy ...</td>\n",
       "      <td>0</td>\n",
       "    </tr>\n",
       "    <tr>\n",
       "      <th>4</th>\n",
       "      <td>Petter Mattei's \"Love in the Time of Money\" is...</td>\n",
       "      <td>1</td>\n",
       "    </tr>\n",
       "  </tbody>\n",
       "</table>\n",
       "</div>"
      ],
      "text/plain": [
       "                                              review  sentiment\n",
       "0  One of the other reviewers has mentioned that ...          1\n",
       "1  A wonderful little production. <br /><br />The...          1\n",
       "2  I thought this was a wonderful way to spend ti...          1\n",
       "3  Basically there's a family where a little boy ...          0\n",
       "4  Petter Mattei's \"Love in the Time of Money\" is...          1"
      ]
     },
     "execution_count": 5,
     "metadata": {},
     "output_type": "execute_result"
    }
   ],
   "source": [
    "df.head()"
   ]
  },
  {
   "cell_type": "code",
   "execution_count": 6,
   "id": "be6c78c7",
   "metadata": {},
   "outputs": [],
   "source": [
    "import re\n",
    "def removeHtml(text):\n",
    "    c=re.compile('<.*?>')\n",
    "    return re.sub(c,' ',text)"
   ]
  },
  {
   "cell_type": "code",
   "execution_count": 7,
   "id": "7a7db48a",
   "metadata": {},
   "outputs": [],
   "source": [
    "df['review']=df['review'].apply(removeHtml)"
   ]
  },
  {
   "cell_type": "code",
   "execution_count": 8,
   "id": "259b772b",
   "metadata": {},
   "outputs": [
    {
     "data": {
      "text/html": [
       "<div>\n",
       "<style scoped>\n",
       "    .dataframe tbody tr th:only-of-type {\n",
       "        vertical-align: middle;\n",
       "    }\n",
       "\n",
       "    .dataframe tbody tr th {\n",
       "        vertical-align: top;\n",
       "    }\n",
       "\n",
       "    .dataframe thead th {\n",
       "        text-align: right;\n",
       "    }\n",
       "</style>\n",
       "<table border=\"1\" class=\"dataframe\">\n",
       "  <thead>\n",
       "    <tr style=\"text-align: right;\">\n",
       "      <th></th>\n",
       "      <th>review</th>\n",
       "      <th>sentiment</th>\n",
       "    </tr>\n",
       "  </thead>\n",
       "  <tbody>\n",
       "    <tr>\n",
       "      <th>0</th>\n",
       "      <td>One of the other reviewers has mentioned that ...</td>\n",
       "      <td>1</td>\n",
       "    </tr>\n",
       "    <tr>\n",
       "      <th>1</th>\n",
       "      <td>A wonderful little production.   The filming t...</td>\n",
       "      <td>1</td>\n",
       "    </tr>\n",
       "    <tr>\n",
       "      <th>2</th>\n",
       "      <td>I thought this was a wonderful way to spend ti...</td>\n",
       "      <td>1</td>\n",
       "    </tr>\n",
       "    <tr>\n",
       "      <th>3</th>\n",
       "      <td>Basically there's a family where a little boy ...</td>\n",
       "      <td>0</td>\n",
       "    </tr>\n",
       "    <tr>\n",
       "      <th>4</th>\n",
       "      <td>Petter Mattei's \"Love in the Time of Money\" is...</td>\n",
       "      <td>1</td>\n",
       "    </tr>\n",
       "  </tbody>\n",
       "</table>\n",
       "</div>"
      ],
      "text/plain": [
       "                                              review  sentiment\n",
       "0  One of the other reviewers has mentioned that ...          1\n",
       "1  A wonderful little production.   The filming t...          1\n",
       "2  I thought this was a wonderful way to spend ti...          1\n",
       "3  Basically there's a family where a little boy ...          0\n",
       "4  Petter Mattei's \"Love in the Time of Money\" is...          1"
      ]
     },
     "execution_count": 8,
     "metadata": {},
     "output_type": "execute_result"
    }
   ],
   "source": [
    "df.head()"
   ]
  },
  {
   "cell_type": "code",
   "execution_count": 9,
   "id": "6dc55719",
   "metadata": {},
   "outputs": [],
   "source": [
    "def toLower(text):\n",
    "    return text.lower()"
   ]
  },
  {
   "cell_type": "code",
   "execution_count": 10,
   "id": "4fc53bab",
   "metadata": {},
   "outputs": [],
   "source": [
    "df['review']=df['review'].apply(toLower)"
   ]
  },
  {
   "cell_type": "code",
   "execution_count": 11,
   "id": "0934149d",
   "metadata": {},
   "outputs": [
    {
     "data": {
      "text/html": [
       "<div>\n",
       "<style scoped>\n",
       "    .dataframe tbody tr th:only-of-type {\n",
       "        vertical-align: middle;\n",
       "    }\n",
       "\n",
       "    .dataframe tbody tr th {\n",
       "        vertical-align: top;\n",
       "    }\n",
       "\n",
       "    .dataframe thead th {\n",
       "        text-align: right;\n",
       "    }\n",
       "</style>\n",
       "<table border=\"1\" class=\"dataframe\">\n",
       "  <thead>\n",
       "    <tr style=\"text-align: right;\">\n",
       "      <th></th>\n",
       "      <th>review</th>\n",
       "      <th>sentiment</th>\n",
       "    </tr>\n",
       "  </thead>\n",
       "  <tbody>\n",
       "    <tr>\n",
       "      <th>0</th>\n",
       "      <td>one of the other reviewers has mentioned that ...</td>\n",
       "      <td>1</td>\n",
       "    </tr>\n",
       "    <tr>\n",
       "      <th>1</th>\n",
       "      <td>a wonderful little production.   the filming t...</td>\n",
       "      <td>1</td>\n",
       "    </tr>\n",
       "    <tr>\n",
       "      <th>2</th>\n",
       "      <td>i thought this was a wonderful way to spend ti...</td>\n",
       "      <td>1</td>\n",
       "    </tr>\n",
       "    <tr>\n",
       "      <th>3</th>\n",
       "      <td>basically there's a family where a little boy ...</td>\n",
       "      <td>0</td>\n",
       "    </tr>\n",
       "    <tr>\n",
       "      <th>4</th>\n",
       "      <td>petter mattei's \"love in the time of money\" is...</td>\n",
       "      <td>1</td>\n",
       "    </tr>\n",
       "  </tbody>\n",
       "</table>\n",
       "</div>"
      ],
      "text/plain": [
       "                                              review  sentiment\n",
       "0  one of the other reviewers has mentioned that ...          1\n",
       "1  a wonderful little production.   the filming t...          1\n",
       "2  i thought this was a wonderful way to spend ti...          1\n",
       "3  basically there's a family where a little boy ...          0\n",
       "4  petter mattei's \"love in the time of money\" is...          1"
      ]
     },
     "execution_count": 11,
     "metadata": {},
     "output_type": "execute_result"
    }
   ],
   "source": [
    "df.head()"
   ]
  },
  {
   "cell_type": "code",
   "execution_count": 12,
   "id": "a8772227",
   "metadata": {},
   "outputs": [],
   "source": [
    "def remSp(text):\n",
    "    t=''\n",
    "    for ch in text:\n",
    "        if ch.isalnum():\n",
    "            t+=ch\n",
    "        else:\n",
    "            t+=' '\n",
    "    return t"
   ]
  },
  {
   "cell_type": "code",
   "execution_count": 13,
   "id": "e1d0b687",
   "metadata": {},
   "outputs": [],
   "source": [
    "df['review']=df['review'].apply(remSp)"
   ]
  },
  {
   "cell_type": "code",
   "execution_count": 14,
   "id": "39da0f7a",
   "metadata": {},
   "outputs": [
    {
     "data": {
      "text/html": [
       "<div>\n",
       "<style scoped>\n",
       "    .dataframe tbody tr th:only-of-type {\n",
       "        vertical-align: middle;\n",
       "    }\n",
       "\n",
       "    .dataframe tbody tr th {\n",
       "        vertical-align: top;\n",
       "    }\n",
       "\n",
       "    .dataframe thead th {\n",
       "        text-align: right;\n",
       "    }\n",
       "</style>\n",
       "<table border=\"1\" class=\"dataframe\">\n",
       "  <thead>\n",
       "    <tr style=\"text-align: right;\">\n",
       "      <th></th>\n",
       "      <th>review</th>\n",
       "      <th>sentiment</th>\n",
       "    </tr>\n",
       "  </thead>\n",
       "  <tbody>\n",
       "    <tr>\n",
       "      <th>0</th>\n",
       "      <td>one of the other reviewers has mentioned that ...</td>\n",
       "      <td>1</td>\n",
       "    </tr>\n",
       "    <tr>\n",
       "      <th>1</th>\n",
       "      <td>a wonderful little production    the filming t...</td>\n",
       "      <td>1</td>\n",
       "    </tr>\n",
       "    <tr>\n",
       "      <th>2</th>\n",
       "      <td>i thought this was a wonderful way to spend ti...</td>\n",
       "      <td>1</td>\n",
       "    </tr>\n",
       "    <tr>\n",
       "      <th>3</th>\n",
       "      <td>basically there s a family where a little boy ...</td>\n",
       "      <td>0</td>\n",
       "    </tr>\n",
       "    <tr>\n",
       "      <th>4</th>\n",
       "      <td>petter mattei s  love in the time of money  is...</td>\n",
       "      <td>1</td>\n",
       "    </tr>\n",
       "  </tbody>\n",
       "</table>\n",
       "</div>"
      ],
      "text/plain": [
       "                                              review  sentiment\n",
       "0  one of the other reviewers has mentioned that ...          1\n",
       "1  a wonderful little production    the filming t...          1\n",
       "2  i thought this was a wonderful way to spend ti...          1\n",
       "3  basically there s a family where a little boy ...          0\n",
       "4  petter mattei s  love in the time of money  is...          1"
      ]
     },
     "execution_count": 14,
     "metadata": {},
     "output_type": "execute_result"
    }
   ],
   "source": [
    "df.head()"
   ]
  },
  {
   "cell_type": "code",
   "execution_count": 15,
   "id": "d153993a",
   "metadata": {},
   "outputs": [],
   "source": [
    "from sklearn.feature_extraction.text import TfidfVectorizer #yaha galti"
   ]
  },
  {
   "cell_type": "code",
   "execution_count": 16,
   "id": "a1da29cf",
   "metadata": {},
   "outputs": [],
   "source": [
    "vect=TfidfVectorizer()"
   ]
  },
  {
   "cell_type": "code",
   "execution_count": 17,
   "id": "20eab977",
   "metadata": {},
   "outputs": [],
   "source": [
    "x=vect.fit_transform(df['review'])\n",
    "y=df['sentiment']"
   ]
  },
  {
   "cell_type": "code",
   "execution_count": 18,
   "id": "39115e30",
   "metadata": {},
   "outputs": [],
   "source": [
    "from sklearn.model_selection import train_test_split #yaha galti kiya sklearn.models"
   ]
  },
  {
   "cell_type": "code",
   "execution_count": 19,
   "id": "89e726ab",
   "metadata": {},
   "outputs": [],
   "source": [
    "xtrain,xtest,ytrain,ytest=train_test_split(x,y,test_size=0.3,random_state=42)"
   ]
  },
  {
   "cell_type": "code",
   "execution_count": 22,
   "id": "869dc760",
   "metadata": {},
   "outputs": [],
   "source": [
    "from sklearn.decomposition import TruncatedSVD   #YE NAYA HAI\n",
    "\n",
    "# Create an instance of TruncatedSVD\n",
    "svd = TruncatedSVD(n_components=100)  # Set the desired number of components\n",
    "\n",
    "# Fit TruncatedSVD on the training data and apply the transformation to both training and test data\n",
    "xtrain_svd = svd.fit_transform(xtrain)\n",
    "xtest_svd = svd.transform(xtest)\n"
   ]
  },
  {
   "cell_type": "code",
   "execution_count": 29,
   "id": "e94f5990",
   "metadata": {},
   "outputs": [],
   "source": [
    "xtrain=xtrain_svd\n",
    "xtest=xtest_svd"
   ]
  },
  {
   "cell_type": "code",
   "execution_count": 30,
   "id": "e6c86628",
   "metadata": {},
   "outputs": [
    {
     "data": {
      "text/plain": [
       "(15000, 100)"
      ]
     },
     "execution_count": 30,
     "metadata": {},
     "output_type": "execute_result"
    }
   ],
   "source": [
    "xtest.shape"
   ]
  },
  {
   "cell_type": "code",
   "execution_count": 31,
   "id": "4ccbf987",
   "metadata": {},
   "outputs": [
    {
     "data": {
      "text/plain": [
       "(35000, 100)"
      ]
     },
     "execution_count": 31,
     "metadata": {},
     "output_type": "execute_result"
    }
   ],
   "source": [
    "xtrain.shape"
   ]
  },
  {
   "cell_type": "code",
   "execution_count": 32,
   "id": "baa0c2f1",
   "metadata": {},
   "outputs": [],
   "source": [
    "import tensorflow as tf\n",
    "from tensorflow.keras import models\n",
    "from tensorflow.keras import layers\n",
    "\n",
    "ann=models.Sequential([\n",
    "    layers.Dense(units=16,activation='relu',input_dim=xtrain.shape[1]),\n",
    "    layers.Dense(units=8,activation='relu'),\n",
    "    layers.Dense(units=1,activation='sigmoid')\n",
    "])\n",
    "ann.compile(optimizer='adam',\n",
    "           loss='binary_crossentropy',\n",
    "           metrics=['accuracy'])"
   ]
  },
  {
   "cell_type": "code",
   "execution_count": 33,
   "id": "6cf03246",
   "metadata": {},
   "outputs": [
    {
     "name": "stdout",
     "output_type": "stream",
     "text": [
      "Epoch 1/10\n",
      "1094/1094 [==============================] - 4s 2ms/step - loss: 0.4436 - accuracy: 0.8148\n",
      "Epoch 2/10\n",
      "1094/1094 [==============================] - 2s 2ms/step - loss: 0.3441 - accuracy: 0.8517\n",
      "Epoch 3/10\n",
      "1094/1094 [==============================] - 3s 2ms/step - loss: 0.3432 - accuracy: 0.8522\n",
      "Epoch 4/10\n",
      "1094/1094 [==============================] - 3s 3ms/step - loss: 0.3430 - accuracy: 0.8511\n",
      "Epoch 5/10\n",
      "1094/1094 [==============================] - 3s 3ms/step - loss: 0.3415 - accuracy: 0.8517\n",
      "Epoch 6/10\n",
      "1094/1094 [==============================] - 3s 2ms/step - loss: 0.3399 - accuracy: 0.8514\n",
      "Epoch 7/10\n",
      "1094/1094 [==============================] - 3s 2ms/step - loss: 0.3381 - accuracy: 0.8525\n",
      "Epoch 8/10\n",
      "1094/1094 [==============================] - 3s 3ms/step - loss: 0.3364 - accuracy: 0.8542\n",
      "Epoch 9/10\n",
      "1094/1094 [==============================] - 3s 3ms/step - loss: 0.3348 - accuracy: 0.8538\n",
      "Epoch 10/10\n",
      "1094/1094 [==============================] - 3s 3ms/step - loss: 0.3326 - accuracy: 0.8547\n"
     ]
    },
    {
     "data": {
      "text/plain": [
       "<keras.callbacks.History at 0x20753644c50>"
      ]
     },
     "execution_count": 33,
     "metadata": {},
     "output_type": "execute_result"
    }
   ],
   "source": [
    "ann.fit(xtrain,ytrain,epochs=10)"
   ]
  },
  {
   "cell_type": "code",
   "execution_count": 34,
   "id": "f92c6fcb",
   "metadata": {},
   "outputs": [
    {
     "name": "stdout",
     "output_type": "stream",
     "text": [
      "469/469 [==============================] - 1s 2ms/step - loss: 0.3270 - accuracy: 0.8572\n"
     ]
    },
    {
     "data": {
      "text/plain": [
       "[0.32695746421813965, 0.857200026512146]"
      ]
     },
     "execution_count": 34,
     "metadata": {},
     "output_type": "execute_result"
    }
   ],
   "source": [
    "\n",
    "ann.evaluate(xtest,ytest)"
   ]
  },
  {
   "cell_type": "code",
   "execution_count": 35,
   "id": "e279e45e",
   "metadata": {},
   "outputs": [
    {
     "data": {
      "text/plain": [
       "array([[ 2.19412600e-01,  6.97428119e-03, -5.23019873e-02,\n",
       "         6.32470012e-02, -2.24615601e-02,  1.99327083e-03,\n",
       "        -2.26165209e-02,  1.88302948e-02, -1.32582759e-02,\n",
       "         2.46126761e-02,  2.03328127e-02,  2.84378322e-02,\n",
       "         1.07628376e-02, -4.26944162e-02,  2.42079902e-03,\n",
       "         2.50720392e-03, -9.35483487e-03,  1.84346368e-02,\n",
       "        -1.37692216e-02, -1.11486842e-02, -3.95706467e-02,\n",
       "        -1.08183051e-02, -1.52148465e-02, -2.22588610e-02,\n",
       "         5.95935603e-03,  9.63547189e-03,  2.93244768e-04,\n",
       "        -8.27013412e-03,  6.28972176e-03, -1.41071944e-02,\n",
       "        -7.92589309e-03, -1.57530631e-02, -3.18800046e-02,\n",
       "        -2.12200054e-02,  4.99838587e-03, -9.87532799e-03,\n",
       "         3.16976467e-02, -1.10118365e-03, -1.39831353e-02,\n",
       "        -1.10277914e-03, -2.32298362e-02, -5.44963230e-03,\n",
       "         4.78698262e-02,  3.65521530e-03,  4.04285422e-03,\n",
       "         3.94724798e-02,  5.53314329e-03, -1.48567468e-02,\n",
       "         1.71179967e-02, -1.65924427e-03,  2.09083657e-02,\n",
       "         1.99565653e-03,  1.70722596e-03,  4.80359444e-03,\n",
       "         7.33575872e-03,  3.81606720e-03,  6.09607120e-03,\n",
       "         1.31501055e-03, -1.85703456e-02, -8.62625758e-03,\n",
       "         2.32584375e-02,  2.36223937e-02, -5.90013299e-03,\n",
       "         2.14528218e-02, -5.55107357e-03,  3.63257519e-02,\n",
       "         1.19202492e-02,  2.91455362e-03, -4.96997027e-03,\n",
       "         2.26258433e-02,  1.77887857e-02, -2.71977623e-02,\n",
       "         2.86197297e-02,  6.39429598e-03,  6.62486518e-03,\n",
       "        -1.10164348e-02, -1.60517328e-02, -1.01062749e-02,\n",
       "        -1.20032840e-02,  4.53536552e-04, -5.42521523e-03,\n",
       "        -1.12926939e-02, -8.19240837e-03, -3.23234293e-02,\n",
       "        -8.14549819e-04, -7.43417610e-03, -4.55310965e-03,\n",
       "        -2.41746300e-03, -4.82706665e-02,  5.11001169e-02,\n",
       "         1.91898773e-02, -1.46099742e-02, -8.79084323e-03,\n",
       "        -2.12018637e-02, -1.07515744e-02,  2.53064692e-03,\n",
       "        -3.93138782e-02,  2.36370434e-03, -1.14654588e-02,\n",
       "         9.96734204e-03],\n",
       "       [ 3.74548766e-01,  2.09612255e-03,  1.87700802e-02,\n",
       "         2.43906272e-02, -8.91400165e-02,  6.29155466e-02,\n",
       "         7.40031951e-02,  4.06590937e-02, -2.47920770e-03,\n",
       "        -6.54595790e-02, -5.33615910e-02, -2.37653744e-02,\n",
       "        -2.36000648e-03,  2.45503431e-02,  5.62827309e-02,\n",
       "         1.87618755e-02, -2.36422998e-02, -1.87303251e-02,\n",
       "        -4.22963574e-02,  2.87868603e-02,  6.60428022e-02,\n",
       "        -1.08202185e-02, -1.27658860e-02, -2.87447409e-02,\n",
       "         3.39362481e-03, -1.62917876e-02, -1.47081665e-02,\n",
       "        -1.23617294e-02,  9.83290342e-03, -1.07558002e-02,\n",
       "        -2.28799587e-02, -4.91038592e-03,  1.13158775e-02,\n",
       "         1.57114106e-02, -2.26745927e-02,  5.92172548e-03,\n",
       "        -9.75269441e-03, -1.52356425e-02, -1.66339238e-02,\n",
       "        -7.90619974e-03,  2.04104706e-02, -1.54201638e-02,\n",
       "         2.30203195e-02,  1.20101231e-02, -1.79522752e-02,\n",
       "         2.07461730e-02, -6.71084915e-04, -1.39914547e-03,\n",
       "         2.32760732e-02,  7.05838642e-03,  1.07007125e-02,\n",
       "        -9.94271899e-03, -1.11511738e-03,  1.19179885e-02,\n",
       "        -2.25754522e-02,  1.98135301e-02, -1.70144225e-02,\n",
       "         6.05915332e-03,  1.17556600e-02, -2.72994223e-02,\n",
       "        -1.97725457e-02,  2.20897454e-02,  9.80782497e-03,\n",
       "        -2.91675452e-02, -5.81534524e-02,  2.01592221e-02,\n",
       "         5.09308231e-02,  2.18839542e-02,  1.16515470e-02,\n",
       "        -5.02169831e-02,  4.14923070e-02, -1.59293584e-02,\n",
       "         1.26443567e-02, -6.96468714e-03,  1.12585687e-02,\n",
       "         1.98325044e-02,  5.01569628e-03,  2.46370087e-02,\n",
       "         1.57019955e-02,  8.89224464e-03,  1.80632794e-02,\n",
       "         2.26509618e-02,  1.77080076e-02, -4.99848344e-03,\n",
       "         2.64278175e-02, -1.69893139e-02, -1.52201727e-02,\n",
       "         1.10008054e-02,  1.06181838e-03, -4.64943670e-02,\n",
       "         9.49804492e-04, -1.21665053e-02, -1.11382255e-02,\n",
       "         1.71111056e-02,  3.67131737e-02, -4.88072760e-03,\n",
       "         1.06313456e-02,  4.86667134e-02,  2.81653404e-03,\n",
       "         2.54271835e-02],\n",
       "       [ 3.16575176e-01,  2.05977467e-02, -2.84869248e-02,\n",
       "        -3.03724580e-02,  3.06725481e-02,  6.90745157e-02,\n",
       "         1.96516457e-02, -8.14036173e-02, -1.76570547e-02,\n",
       "        -6.51821405e-03, -1.28668655e-02, -2.96692321e-02,\n",
       "         1.64673975e-02, -3.30331324e-03,  2.89502407e-02,\n",
       "        -3.53639170e-04, -1.44818756e-02,  7.71704897e-02,\n",
       "         3.79703219e-03, -1.85278935e-02,  5.47261350e-02,\n",
       "        -5.64755512e-02,  1.25121700e-02, -1.43607230e-02,\n",
       "        -2.02429714e-02, -9.60266550e-03,  1.11824108e-02,\n",
       "        -1.97498370e-02,  8.92383522e-03, -3.02967574e-02,\n",
       "         2.11300245e-02,  9.52121807e-03,  1.76106906e-02,\n",
       "        -2.18229716e-02, -2.96478535e-02, -3.46974529e-02,\n",
       "         1.41439088e-02, -7.06891385e-02, -3.35537314e-02,\n",
       "        -1.01940410e-02, -4.58358581e-02,  5.71102276e-02,\n",
       "         4.67520246e-02, -2.97616489e-02,  1.62154188e-02,\n",
       "         7.09704940e-03,  4.47142593e-03,  1.08024606e-02,\n",
       "         3.53918479e-02,  1.21974935e-02,  1.96074351e-02,\n",
       "         2.04833779e-02,  4.26141497e-02,  7.62341565e-02,\n",
       "        -3.97172725e-02, -1.00993760e-02,  3.17544950e-02,\n",
       "         2.55880763e-02,  4.49105521e-02,  3.34746193e-03,\n",
       "         8.54234813e-03, -4.15209801e-02,  5.75983410e-03,\n",
       "        -1.60487468e-02,  5.53315809e-02, -1.30927122e-02,\n",
       "        -3.17239514e-02,  1.35183736e-02, -1.63190234e-03,\n",
       "         3.09564901e-03, -1.17246809e-02, -2.88675210e-02,\n",
       "         1.51556007e-02, -3.20176012e-02,  3.49270513e-02,\n",
       "         5.03203912e-03,  8.88278573e-03,  2.40467648e-02,\n",
       "        -1.01774756e-02, -6.43372577e-04,  2.40459289e-02,\n",
       "        -2.35031777e-02,  3.47731073e-02,  1.78198604e-02,\n",
       "        -4.92558988e-03,  2.76811314e-03, -1.27894745e-02,\n",
       "         3.92202266e-02,  3.59409345e-02,  2.29530450e-02,\n",
       "        -2.47791090e-02,  3.18534719e-02, -8.51209745e-04,\n",
       "        -2.56984846e-03,  3.73711667e-02,  1.37782754e-02,\n",
       "         3.72854596e-02, -2.86863935e-02, -1.70158345e-02,\n",
       "        -1.48933682e-02],\n",
       "       [ 1.74761901e-01, -4.24570551e-02,  9.55256829e-02,\n",
       "         8.47286630e-02,  5.44170891e-02, -9.57382540e-02,\n",
       "         4.59206874e-02,  5.55939551e-02, -2.34664058e-02,\n",
       "        -1.42671505e-02,  5.16101758e-03,  7.02692561e-02,\n",
       "        -4.78148457e-03,  5.16793766e-02,  5.54137910e-03,\n",
       "         7.89070918e-03, -1.97894091e-02,  2.71472483e-02,\n",
       "         3.23717635e-02, -3.99697949e-02,  1.17262344e-03,\n",
       "        -2.74784696e-03, -1.55126219e-02,  2.57993276e-02,\n",
       "         3.55120361e-03, -8.19604592e-03,  4.24500981e-03,\n",
       "         5.22134945e-02, -1.63907995e-02, -4.05418337e-02,\n",
       "        -1.58886499e-02,  6.87854382e-03,  5.31387512e-04,\n",
       "         3.07415845e-02,  2.59155353e-03,  1.77163106e-02,\n",
       "         7.78317438e-03,  9.20427313e-03, -1.19750308e-02,\n",
       "        -1.30322034e-02,  2.83784294e-02,  2.41488576e-03,\n",
       "         6.79624349e-03, -6.24082121e-03, -2.55076701e-02,\n",
       "        -2.30721502e-02,  4.31070400e-02, -1.86427848e-02,\n",
       "        -2.05521643e-02,  8.93372167e-03,  2.93756931e-02,\n",
       "        -3.12644243e-02,  2.79417386e-02,  6.89190984e-02,\n",
       "         3.86850725e-02, -3.31336901e-02, -1.00177447e-01,\n",
       "        -3.58229783e-02, -1.64660217e-02, -3.82568943e-02,\n",
       "         2.31652885e-02,  3.42769658e-02, -1.12991531e-02,\n",
       "         6.74389371e-03, -5.26274143e-03,  3.00358375e-03,\n",
       "         9.40105694e-03, -1.24130287e-02, -4.75272452e-03,\n",
       "         8.17824258e-03,  3.38294666e-02,  6.95645759e-03,\n",
       "        -2.92196456e-02, -1.92718973e-03,  3.40030222e-02,\n",
       "         2.10981105e-02, -6.27418246e-03,  2.50491358e-02,\n",
       "        -5.04248366e-03,  1.06473529e-02,  1.22651644e-02,\n",
       "         1.34046309e-02,  9.65688787e-04,  2.71274930e-02,\n",
       "        -2.32839485e-02,  2.87044641e-02, -2.15596595e-02,\n",
       "        -8.80922460e-03, -5.69278312e-04,  2.84570837e-03,\n",
       "         5.23541542e-05,  3.26994920e-02, -4.15388746e-02,\n",
       "        -8.41280541e-03, -6.87230135e-03,  1.11166496e-02,\n",
       "         3.77509176e-02, -2.03653956e-02, -1.01515118e-03,\n",
       "         8.69323360e-03],\n",
       "       [ 3.60069856e-01,  4.95614980e-02,  1.03343169e-01,\n",
       "         1.01325082e-02, -7.00392993e-03,  5.34399035e-02,\n",
       "        -6.97398739e-03, -2.89543597e-02, -1.91772181e-02,\n",
       "        -4.85733033e-02, -2.80429969e-02, -3.37895306e-02,\n",
       "        -3.95909149e-02, -2.33630236e-02, -2.20900979e-02,\n",
       "        -7.50755910e-03,  5.66385746e-02, -3.32008355e-02,\n",
       "        -8.69057823e-03,  2.26636276e-03, -1.92232500e-02,\n",
       "         3.78443534e-02, -3.63920728e-03,  2.53753269e-02,\n",
       "         4.19262451e-03, -3.39501144e-03,  4.02880437e-03,\n",
       "        -3.94784337e-02, -1.14641518e-03,  2.49547109e-02,\n",
       "         2.86910469e-02,  2.92299820e-02, -2.63583045e-02,\n",
       "        -1.15349812e-02, -2.31095444e-03,  2.57802549e-02,\n",
       "        -4.62984011e-02, -5.85961080e-03, -2.69911975e-02,\n",
       "        -3.97672393e-02, -7.72351157e-03,  4.00778750e-02,\n",
       "        -3.61769497e-02,  2.74313774e-02,  1.94517246e-02,\n",
       "        -2.53259294e-02,  2.82913482e-03,  2.22874907e-02,\n",
       "         5.50729094e-02,  1.94013466e-02,  3.52333425e-02,\n",
       "        -1.63058987e-02, -7.86661081e-03, -8.71487067e-03,\n",
       "        -3.96531748e-02,  2.13752517e-02,  1.95763069e-04,\n",
       "         2.58506205e-02,  1.56928481e-02, -1.77911580e-02,\n",
       "        -2.96375549e-02, -7.69415729e-03,  5.02249574e-03,\n",
       "        -4.95197538e-02, -3.42425764e-02,  2.79183717e-02,\n",
       "         6.86653281e-03,  2.69860977e-03, -3.51400795e-02,\n",
       "         1.04124271e-02,  1.33926930e-02,  5.22214603e-02,\n",
       "         8.34771511e-03,  9.62479235e-03, -5.88404603e-02,\n",
       "        -6.74762620e-02, -1.30190581e-02,  4.48340672e-03,\n",
       "        -3.12334138e-02, -4.30193109e-03,  5.51611363e-04,\n",
       "        -1.58628283e-02,  1.97760261e-03,  2.88903279e-02,\n",
       "         1.68350072e-02,  3.19844669e-02, -1.51504880e-02,\n",
       "        -7.12424374e-02,  4.03517359e-02, -5.33352140e-02,\n",
       "         4.10775748e-02,  4.20650873e-02,  6.37075036e-03,\n",
       "         2.02063532e-03, -3.07578387e-03, -1.18342323e-02,\n",
       "         2.60133997e-02,  5.42727726e-03,  1.24220155e-02,\n",
       "         5.57421072e-03]])"
      ]
     },
     "execution_count": 35,
     "metadata": {},
     "output_type": "execute_result"
    }
   ],
   "source": [
    "xtest[:5]"
   ]
  },
  {
   "cell_type": "code",
   "execution_count": 39,
   "id": "c15ad636",
   "metadata": {},
   "outputs": [
    {
     "data": {
      "text/plain": [
       "33553    1\n",
       "9427     1\n",
       "199      0\n",
       "12447    1\n",
       "39489    0\n",
       "Name: sentiment, dtype: int64"
      ]
     },
     "execution_count": 39,
     "metadata": {},
     "output_type": "execute_result"
    }
   ],
   "source": [
    "ytest[:5]"
   ]
  },
  {
   "cell_type": "code",
   "execution_count": 37,
   "id": "db48b6fa",
   "metadata": {},
   "outputs": [
    {
     "name": "stdout",
     "output_type": "stream",
     "text": [
      "469/469 [==============================] - 1s 2ms/step\n"
     ]
    }
   ],
   "source": [
    "ypred=ann.predict(xtest)"
   ]
  },
  {
   "cell_type": "code",
   "execution_count": 41,
   "id": "dcbfff11",
   "metadata": {},
   "outputs": [],
   "source": [
    "yclass=[round(e[0]) for e in ypred]"
   ]
  },
  {
   "cell_type": "code",
   "execution_count": 42,
   "id": "70140fe1",
   "metadata": {},
   "outputs": [
    {
     "data": {
      "text/plain": [
       "[0, 1, 0, 1, 0]"
      ]
     },
     "execution_count": 42,
     "metadata": {},
     "output_type": "execute_result"
    }
   ],
   "source": [
    "yclass[:5]"
   ]
  },
  {
   "cell_type": "code",
   "execution_count": null,
   "id": "88531a8e",
   "metadata": {},
   "outputs": [],
   "source": []
  }
 ],
 "metadata": {
  "kernelspec": {
   "display_name": "Python 3 (ipykernel)",
   "language": "python",
   "name": "python3"
  },
  "language_info": {
   "codemirror_mode": {
    "name": "ipython",
    "version": 3
   },
   "file_extension": ".py",
   "mimetype": "text/x-python",
   "name": "python",
   "nbconvert_exporter": "python",
   "pygments_lexer": "ipython3",
   "version": "3.11.3"
  }
 },
 "nbformat": 4,
 "nbformat_minor": 5
}
