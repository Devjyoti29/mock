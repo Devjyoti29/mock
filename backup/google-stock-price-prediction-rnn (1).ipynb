{
 "cells": [
  {
   "cell_type": "code",
   "execution_count": 6,
   "metadata": {
    "_cell_guid": "b1076dfc-b9ad-4769-8c92-a6c4dae69d19",
    "_uuid": "8f2839f25d086af736a60e9eeb907d3b93b6e0e5"
   },
   "outputs": [],
   "source": [
    "# This Python 3 environment comes with many helpful analytics libraries installed\n",
    "# It is defined by the kaggle/python docker image: https://github.com/kaggle/docker-python\n",
    "# For example, here's several helpful packages to load in \n",
    "\n",
    "import numpy as np # linear algebra\n",
    "import pandas as pd # data processing, CSV file I/O (e.g. pd.read_csv)\n",
    "import matplotlib.pyplot as plt\n",
    "\n",
    "# Input data files are available in the \"../input/\" directory.\n",
    "# For example, running this (by clicking run or pressing Shift+Enter) will list the files in the input directory\n",
    "\n",
    "\n",
    "# Any results you write to the current directory are saved as output."
   ]
  },
  {
   "cell_type": "code",
   "execution_count": 7,
   "metadata": {
    "_cell_guid": "79c7e3d0-c299-4dcb-8224-4455121ee9b0",
    "_uuid": "d629ff2d2480ee46fbb7e2d37f6b5fab8052498a"
   },
   "outputs": [],
   "source": [
    "dataset_train = pd.read_csv(\"trainset.csv\")"
   ]
  },
  {
   "cell_type": "code",
   "execution_count": 8,
   "metadata": {
    "_uuid": "9de88d689da1a279477470f6cef999c0a45bf98a"
   },
   "outputs": [
    {
     "data": {
      "text/html": [
       "<div>\n",
       "<style scoped>\n",
       "    .dataframe tbody tr th:only-of-type {\n",
       "        vertical-align: middle;\n",
       "    }\n",
       "\n",
       "    .dataframe tbody tr th {\n",
       "        vertical-align: top;\n",
       "    }\n",
       "\n",
       "    .dataframe thead th {\n",
       "        text-align: right;\n",
       "    }\n",
       "</style>\n",
       "<table border=\"1\" class=\"dataframe\">\n",
       "  <thead>\n",
       "    <tr style=\"text-align: right;\">\n",
       "      <th></th>\n",
       "      <th>Date</th>\n",
       "      <th>Open</th>\n",
       "      <th>High</th>\n",
       "      <th>Low</th>\n",
       "      <th>Close</th>\n",
       "      <th>Adj Close</th>\n",
       "      <th>Volume</th>\n",
       "    </tr>\n",
       "  </thead>\n",
       "  <tbody>\n",
       "    <tr>\n",
       "      <th>0</th>\n",
       "      <td>2013-01-02</td>\n",
       "      <td>357.385559</td>\n",
       "      <td>361.151062</td>\n",
       "      <td>355.959839</td>\n",
       "      <td>359.288177</td>\n",
       "      <td>359.288177</td>\n",
       "      <td>5115500</td>\n",
       "    </tr>\n",
       "    <tr>\n",
       "      <th>1</th>\n",
       "      <td>2013-01-03</td>\n",
       "      <td>360.122742</td>\n",
       "      <td>363.600128</td>\n",
       "      <td>358.031342</td>\n",
       "      <td>359.496826</td>\n",
       "      <td>359.496826</td>\n",
       "      <td>4666500</td>\n",
       "    </tr>\n",
       "    <tr>\n",
       "      <th>2</th>\n",
       "      <td>2013-01-04</td>\n",
       "      <td>362.313507</td>\n",
       "      <td>368.339294</td>\n",
       "      <td>361.488861</td>\n",
       "      <td>366.600616</td>\n",
       "      <td>366.600616</td>\n",
       "      <td>5562800</td>\n",
       "    </tr>\n",
       "    <tr>\n",
       "      <th>3</th>\n",
       "      <td>2013-01-07</td>\n",
       "      <td>365.348755</td>\n",
       "      <td>367.301056</td>\n",
       "      <td>362.929504</td>\n",
       "      <td>365.001007</td>\n",
       "      <td>365.001007</td>\n",
       "      <td>3332900</td>\n",
       "    </tr>\n",
       "    <tr>\n",
       "      <th>4</th>\n",
       "      <td>2013-01-08</td>\n",
       "      <td>365.393463</td>\n",
       "      <td>365.771027</td>\n",
       "      <td>359.874359</td>\n",
       "      <td>364.280701</td>\n",
       "      <td>364.280701</td>\n",
       "      <td>3373900</td>\n",
       "    </tr>\n",
       "    <tr>\n",
       "      <th>...</th>\n",
       "      <td>...</td>\n",
       "      <td>...</td>\n",
       "      <td>...</td>\n",
       "      <td>...</td>\n",
       "      <td>...</td>\n",
       "      <td>...</td>\n",
       "      <td>...</td>\n",
       "    </tr>\n",
       "    <tr>\n",
       "      <th>1254</th>\n",
       "      <td>2017-12-22</td>\n",
       "      <td>1061.109985</td>\n",
       "      <td>1064.199951</td>\n",
       "      <td>1059.439941</td>\n",
       "      <td>1060.119995</td>\n",
       "      <td>1060.119995</td>\n",
       "      <td>755100</td>\n",
       "    </tr>\n",
       "    <tr>\n",
       "      <th>1255</th>\n",
       "      <td>2017-12-26</td>\n",
       "      <td>1058.069946</td>\n",
       "      <td>1060.119995</td>\n",
       "      <td>1050.199951</td>\n",
       "      <td>1056.739990</td>\n",
       "      <td>1056.739990</td>\n",
       "      <td>760600</td>\n",
       "    </tr>\n",
       "    <tr>\n",
       "      <th>1256</th>\n",
       "      <td>2017-12-27</td>\n",
       "      <td>1057.390015</td>\n",
       "      <td>1058.369995</td>\n",
       "      <td>1048.050049</td>\n",
       "      <td>1049.369995</td>\n",
       "      <td>1049.369995</td>\n",
       "      <td>1271900</td>\n",
       "    </tr>\n",
       "    <tr>\n",
       "      <th>1257</th>\n",
       "      <td>2017-12-28</td>\n",
       "      <td>1051.599976</td>\n",
       "      <td>1054.750000</td>\n",
       "      <td>1044.770020</td>\n",
       "      <td>1048.140015</td>\n",
       "      <td>1048.140015</td>\n",
       "      <td>837100</td>\n",
       "    </tr>\n",
       "    <tr>\n",
       "      <th>1258</th>\n",
       "      <td>2017-12-29</td>\n",
       "      <td>1046.719971</td>\n",
       "      <td>1049.699951</td>\n",
       "      <td>1044.900024</td>\n",
       "      <td>1046.400024</td>\n",
       "      <td>1046.400024</td>\n",
       "      <td>887500</td>\n",
       "    </tr>\n",
       "  </tbody>\n",
       "</table>\n",
       "<p>1259 rows × 7 columns</p>\n",
       "</div>"
      ],
      "text/plain": [
       "            Date         Open         High          Low        Close  \\\n",
       "0     2013-01-02   357.385559   361.151062   355.959839   359.288177   \n",
       "1     2013-01-03   360.122742   363.600128   358.031342   359.496826   \n",
       "2     2013-01-04   362.313507   368.339294   361.488861   366.600616   \n",
       "3     2013-01-07   365.348755   367.301056   362.929504   365.001007   \n",
       "4     2013-01-08   365.393463   365.771027   359.874359   364.280701   \n",
       "...          ...          ...          ...          ...          ...   \n",
       "1254  2017-12-22  1061.109985  1064.199951  1059.439941  1060.119995   \n",
       "1255  2017-12-26  1058.069946  1060.119995  1050.199951  1056.739990   \n",
       "1256  2017-12-27  1057.390015  1058.369995  1048.050049  1049.369995   \n",
       "1257  2017-12-28  1051.599976  1054.750000  1044.770020  1048.140015   \n",
       "1258  2017-12-29  1046.719971  1049.699951  1044.900024  1046.400024   \n",
       "\n",
       "        Adj Close   Volume  \n",
       "0      359.288177  5115500  \n",
       "1      359.496826  4666500  \n",
       "2      366.600616  5562800  \n",
       "3      365.001007  3332900  \n",
       "4      364.280701  3373900  \n",
       "...           ...      ...  \n",
       "1254  1060.119995   755100  \n",
       "1255  1056.739990   760600  \n",
       "1256  1049.369995  1271900  \n",
       "1257  1048.140015   837100  \n",
       "1258  1046.400024   887500  \n",
       "\n",
       "[1259 rows x 7 columns]"
      ]
     },
     "execution_count": 8,
     "metadata": {},
     "output_type": "execute_result"
    }
   ],
   "source": [
    "dataset_train"
   ]
  },
  {
   "cell_type": "code",
   "execution_count": 9,
   "metadata": {
    "_uuid": "99cca4c05240bd82c4492c6c3c200925c5c096e5"
   },
   "outputs": [],
   "source": [
    "trainset = dataset_train.iloc[:,1:2].values"
   ]
  },
  {
   "cell_type": "code",
   "execution_count": 10,
   "metadata": {
    "_uuid": "1f00141023a0cc15593c8ef1351883177ca3ba21"
   },
   "outputs": [
    {
     "data": {
      "text/plain": [
       "array([[ 357.385559],\n",
       "       [ 360.122742],\n",
       "       [ 362.313507],\n",
       "       ...,\n",
       "       [1057.390015],\n",
       "       [1051.599976],\n",
       "       [1046.719971]])"
      ]
     },
     "execution_count": 10,
     "metadata": {},
     "output_type": "execute_result"
    }
   ],
   "source": [
    "trainset"
   ]
  },
  {
   "cell_type": "code",
   "execution_count": 11,
   "metadata": {
    "_uuid": "1abc6fe47fb5c4443767a2e2053cf9999c8a9a5c"
   },
   "outputs": [],
   "source": [
    "from sklearn.preprocessing import MinMaxScaler\n",
    "sc = MinMaxScaler(feature_range = (0,1))\n",
    "training_scaled = sc.fit_transform(trainset)"
   ]
  },
  {
   "cell_type": "code",
   "execution_count": 12,
   "metadata": {
    "_uuid": "15362ed79df83c13fbddff1889a71f21e968fbc2"
   },
   "outputs": [
    {
     "data": {
      "text/plain": [
       "array([[0.01011148],\n",
       "       [0.01388614],\n",
       "       [0.01690727],\n",
       "       ...,\n",
       "       [0.97543954],\n",
       "       [0.9674549 ],\n",
       "       [0.96072522]])"
      ]
     },
     "execution_count": 12,
     "metadata": {},
     "output_type": "execute_result"
    }
   ],
   "source": [
    "training_scaled"
   ]
  },
  {
   "cell_type": "code",
   "execution_count": 13,
   "metadata": {
    "_uuid": "d0d549e9a4af9ab516c3304fb44d650a815dcedc"
   },
   "outputs": [],
   "source": [
    "x_train = []\n",
    "y_train = []"
   ]
  },
  {
   "cell_type": "code",
   "execution_count": 14,
   "metadata": {
    "_uuid": "4c4f8ba0c635e7da0ba1bc52abf0a42068acdc89"
   },
   "outputs": [],
   "source": [
    "for i in range(60,1259):\n",
    "    x_train.append(training_scaled[i-60:i, 0])\n",
    "    y_train.append(training_scaled[i,0])\n",
    "x_train,y_train = np.array(x_train),np.array(y_train)"
   ]
  },
  {
   "cell_type": "code",
   "execution_count": 15,
   "metadata": {
    "_uuid": "360eb79902c77fbba3f16ab47a5ff7593a177478"
   },
   "outputs": [
    {
     "data": {
      "text/plain": [
       "(1199, 60)"
      ]
     },
     "execution_count": 15,
     "metadata": {},
     "output_type": "execute_result"
    }
   ],
   "source": [
    "x_train.shape"
   ]
  },
  {
   "cell_type": "code",
   "execution_count": 16,
   "metadata": {
    "_uuid": "316c5775b5c0a984b432f138792d2c0e9a484491"
   },
   "outputs": [],
   "source": [
    "x_train = np.reshape(x_train, (x_train.shape[0],x_train.shape[1],1))"
   ]
  },
  {
   "cell_type": "code",
   "execution_count": 17,
   "metadata": {
    "_uuid": "28f5242c6f1961914d1f568e70228fd30c1cb7fa"
   },
   "outputs": [],
   "source": [
    "from keras.models import Sequential\n",
    "from keras.layers import Dense\n",
    "from keras.layers import LSTM\n",
    "from keras.layers import Dropout"
   ]
  },
  {
   "cell_type": "code",
   "execution_count": 18,
   "metadata": {
    "_uuid": "ed24d733423254641f134c0e84f44a8ce175589f"
   },
   "outputs": [],
   "source": [
    "regressor = Sequential()\n",
    "regressor.add(LSTM(units = 50,return_sequences = True,input_shape = (x_train.shape[1],1)))"
   ]
  },
  {
   "cell_type": "code",
   "execution_count": 19,
   "metadata": {
    "_uuid": "e7b3dd133e58cb2acc860a8cfcd1483ba70e6b1b"
   },
   "outputs": [],
   "source": [
    "regressor.add(Dropout(0.2))"
   ]
  },
  {
   "cell_type": "code",
   "execution_count": 20,
   "metadata": {
    "_uuid": "6b746176cb04357ac1e4c3e4c91ecd70717fed47"
   },
   "outputs": [],
   "source": [
    "regressor.add(LSTM(units = 50,return_sequences = True))\n",
    "regressor.add(Dropout(0.2))"
   ]
  },
  {
   "cell_type": "code",
   "execution_count": 21,
   "metadata": {
    "_uuid": "73fe0b95d62b599e8aae4e2a53a10bc7165f464c"
   },
   "outputs": [],
   "source": [
    "regressor.add(LSTM(units = 50,return_sequences = True))\n",
    "regressor.add(Dropout(0.2))"
   ]
  },
  {
   "cell_type": "code",
   "execution_count": 22,
   "metadata": {
    "_uuid": "8c81a80d2ea3cdf653675def0bbba5f9572e8770"
   },
   "outputs": [],
   "source": [
    "regressor.add(LSTM(units = 50))\n",
    "regressor.add(Dropout(0.2))"
   ]
  },
  {
   "cell_type": "code",
   "execution_count": 23,
   "metadata": {
    "_uuid": "2edc2684995e0033ae8a4997b61b92a66c5bceee"
   },
   "outputs": [],
   "source": [
    "regressor.add(Dense(units = 1))"
   ]
  },
  {
   "cell_type": "code",
   "execution_count": 24,
   "metadata": {
    "_uuid": "6681ff55d9a29b1ad0f37cdc82318fb2c8fbc0bd"
   },
   "outputs": [],
   "source": [
    "regressor.compile(optimizer = 'adam',loss = 'mean_squared_error')"
   ]
  },
  {
   "cell_type": "code",
   "execution_count": 25,
   "metadata": {
    "_uuid": "b0287226b32109016b659a8ba484b5eb51e0d61a"
   },
   "outputs": [
    {
     "name": "stdout",
     "output_type": "stream",
     "text": [
      "Epoch 1/100\n",
      "38/38 [==============================] - 19s 195ms/step - loss: 0.0327\n",
      "Epoch 2/100\n",
      "38/38 [==============================] - 7s 184ms/step - loss: 0.0045\n",
      "Epoch 3/100\n",
      "38/38 [==============================] - 7s 182ms/step - loss: 0.0045\n",
      "Epoch 4/100\n",
      "38/38 [==============================] - 7s 183ms/step - loss: 0.0042\n",
      "Epoch 5/100\n",
      "38/38 [==============================] - 7s 182ms/step - loss: 0.0034\n",
      "Epoch 6/100\n",
      "38/38 [==============================] - 7s 183ms/step - loss: 0.0037\n",
      "Epoch 7/100\n",
      "38/38 [==============================] - 7s 186ms/step - loss: 0.0034\n",
      "Epoch 8/100\n",
      "38/38 [==============================] - 7s 182ms/step - loss: 0.0033\n",
      "Epoch 9/100\n",
      "38/38 [==============================] - 7s 185ms/step - loss: 0.0037\n",
      "Epoch 10/100\n",
      "38/38 [==============================] - 7s 185ms/step - loss: 0.0029\n",
      "Epoch 11/100\n",
      "38/38 [==============================] - 7s 185ms/step - loss: 0.0030\n",
      "Epoch 12/100\n",
      "38/38 [==============================] - 7s 185ms/step - loss: 0.0029\n",
      "Epoch 13/100\n",
      "38/38 [==============================] - 7s 185ms/step - loss: 0.0033\n",
      "Epoch 14/100\n",
      "38/38 [==============================] - 7s 185ms/step - loss: 0.0028\n",
      "Epoch 15/100\n",
      "38/38 [==============================] - 7s 186ms/step - loss: 0.0027\n",
      "Epoch 16/100\n",
      "38/38 [==============================] - 7s 184ms/step - loss: 0.0025\n",
      "Epoch 17/100\n",
      "38/38 [==============================] - 7s 184ms/step - loss: 0.0026\n",
      "Epoch 18/100\n",
      "38/38 [==============================] - 7s 185ms/step - loss: 0.0023\n",
      "Epoch 19/100\n",
      "38/38 [==============================] - 7s 184ms/step - loss: 0.0023\n",
      "Epoch 20/100\n",
      "38/38 [==============================] - 7s 185ms/step - loss: 0.0024\n",
      "Epoch 21/100\n",
      "38/38 [==============================] - 7s 185ms/step - loss: 0.0023\n",
      "Epoch 22/100\n",
      "38/38 [==============================] - 7s 187ms/step - loss: 0.0026\n",
      "Epoch 23/100\n",
      "38/38 [==============================] - 7s 186ms/step - loss: 0.0027\n",
      "Epoch 24/100\n",
      "38/38 [==============================] - 7s 184ms/step - loss: 0.0028\n",
      "Epoch 25/100\n",
      "38/38 [==============================] - 7s 186ms/step - loss: 0.0023\n",
      "Epoch 26/100\n",
      "38/38 [==============================] - 7s 182ms/step - loss: 0.0023\n",
      "Epoch 27/100\n",
      "38/38 [==============================] - 7s 184ms/step - loss: 0.0022\n",
      "Epoch 28/100\n",
      "38/38 [==============================] - 7s 183ms/step - loss: 0.0023\n",
      "Epoch 29/100\n",
      "38/38 [==============================] - 7s 183ms/step - loss: 0.0021\n",
      "Epoch 30/100\n",
      "38/38 [==============================] - 7s 189ms/step - loss: 0.0023\n",
      "Epoch 31/100\n",
      "38/38 [==============================] - 7s 184ms/step - loss: 0.0027\n",
      "Epoch 32/100\n",
      "38/38 [==============================] - 7s 183ms/step - loss: 0.0021\n",
      "Epoch 33/100\n",
      "38/38 [==============================] - 7s 184ms/step - loss: 0.0019\n",
      "Epoch 34/100\n",
      "38/38 [==============================] - 7s 185ms/step - loss: 0.0017\n",
      "Epoch 35/100\n",
      "38/38 [==============================] - 7s 183ms/step - loss: 0.0019\n",
      "Epoch 36/100\n",
      "38/38 [==============================] - 7s 183ms/step - loss: 0.0024\n",
      "Epoch 37/100\n",
      "38/38 [==============================] - 7s 181ms/step - loss: 0.0020\n",
      "Epoch 38/100\n",
      "38/38 [==============================] - 7s 183ms/step - loss: 0.0021\n",
      "Epoch 39/100\n",
      "38/38 [==============================] - 7s 182ms/step - loss: 0.0019\n",
      "Epoch 40/100\n",
      "38/38 [==============================] - 7s 184ms/step - loss: 0.0020\n",
      "Epoch 41/100\n",
      "38/38 [==============================] - 7s 183ms/step - loss: 0.0020\n",
      "Epoch 42/100\n",
      "38/38 [==============================] - 7s 182ms/step - loss: 0.0019\n",
      "Epoch 43/100\n",
      "38/38 [==============================] - 7s 183ms/step - loss: 0.0019\n",
      "Epoch 44/100\n",
      "38/38 [==============================] - 7s 183ms/step - loss: 0.0019\n",
      "Epoch 45/100\n",
      "38/38 [==============================] - 7s 181ms/step - loss: 0.0017\n",
      "Epoch 46/100\n",
      "38/38 [==============================] - 7s 185ms/step - loss: 0.0018\n",
      "Epoch 47/100\n",
      "38/38 [==============================] - 7s 182ms/step - loss: 0.0017\n",
      "Epoch 48/100\n",
      "38/38 [==============================] - 7s 186ms/step - loss: 0.0020\n",
      "Epoch 49/100\n",
      "38/38 [==============================] - 7s 186ms/step - loss: 0.0020\n",
      "Epoch 50/100\n",
      "38/38 [==============================] - 7s 185ms/step - loss: 0.0016\n",
      "Epoch 51/100\n",
      "38/38 [==============================] - 7s 185ms/step - loss: 0.0017\n",
      "Epoch 52/100\n",
      "38/38 [==============================] - 7s 185ms/step - loss: 0.0018\n",
      "Epoch 53/100\n",
      "38/38 [==============================] - 7s 183ms/step - loss: 0.0017\n",
      "Epoch 54/100\n",
      "38/38 [==============================] - 7s 185ms/step - loss: 0.0017\n",
      "Epoch 55/100\n",
      "38/38 [==============================] - 7s 184ms/step - loss: 0.0015\n",
      "Epoch 56/100\n",
      "38/38 [==============================] - 7s 184ms/step - loss: 0.0015\n",
      "Epoch 57/100\n",
      "38/38 [==============================] - 7s 184ms/step - loss: 0.0014\n",
      "Epoch 58/100\n",
      "38/38 [==============================] - 7s 180ms/step - loss: 0.0015\n",
      "Epoch 59/100\n",
      "38/38 [==============================] - 7s 183ms/step - loss: 0.0016\n",
      "Epoch 60/100\n",
      "38/38 [==============================] - 7s 185ms/step - loss: 0.0018\n",
      "Epoch 61/100\n",
      "38/38 [==============================] - 7s 184ms/step - loss: 0.0017\n",
      "Epoch 62/100\n",
      "38/38 [==============================] - 7s 183ms/step - loss: 0.0014\n",
      "Epoch 63/100\n",
      "38/38 [==============================] - 7s 182ms/step - loss: 0.0013\n",
      "Epoch 64/100\n",
      "38/38 [==============================] - 7s 186ms/step - loss: 0.0013\n",
      "Epoch 65/100\n",
      "38/38 [==============================] - 7s 186ms/step - loss: 0.0014\n",
      "Epoch 66/100\n",
      "38/38 [==============================] - 7s 182ms/step - loss: 0.0014\n",
      "Epoch 67/100\n",
      "38/38 [==============================] - 7s 186ms/step - loss: 0.0015\n",
      "Epoch 68/100\n",
      "38/38 [==============================] - 7s 185ms/step - loss: 0.0014\n",
      "Epoch 69/100\n",
      "38/38 [==============================] - 7s 187ms/step - loss: 0.0014\n",
      "Epoch 70/100\n",
      "38/38 [==============================] - 7s 185ms/step - loss: 0.0013\n",
      "Epoch 71/100\n",
      "38/38 [==============================] - 7s 183ms/step - loss: 0.0014\n",
      "Epoch 72/100\n",
      "38/38 [==============================] - 7s 185ms/step - loss: 0.0014\n",
      "Epoch 73/100\n",
      "38/38 [==============================] - 7s 186ms/step - loss: 0.0014\n",
      "Epoch 74/100\n",
      "38/38 [==============================] - 7s 185ms/step - loss: 0.0015\n",
      "Epoch 75/100\n",
      "38/38 [==============================] - 7s 185ms/step - loss: 0.0012\n",
      "Epoch 76/100\n",
      "38/38 [==============================] - 7s 183ms/step - loss: 0.0012\n",
      "Epoch 77/100\n",
      "38/38 [==============================] - 7s 183ms/step - loss: 0.0012\n",
      "Epoch 78/100\n",
      "38/38 [==============================] - 7s 184ms/step - loss: 0.0013\n",
      "Epoch 79/100\n",
      "38/38 [==============================] - 7s 181ms/step - loss: 0.0012\n",
      "Epoch 80/100\n",
      "38/38 [==============================] - 7s 185ms/step - loss: 0.0013\n",
      "Epoch 81/100\n",
      "38/38 [==============================] - 7s 188ms/step - loss: 0.0012\n",
      "Epoch 82/100\n",
      "38/38 [==============================] - 7s 186ms/step - loss: 0.0013\n",
      "Epoch 83/100\n",
      "38/38 [==============================] - 7s 188ms/step - loss: 0.0011\n",
      "Epoch 84/100\n",
      "38/38 [==============================] - 7s 186ms/step - loss: 0.0011\n",
      "Epoch 85/100\n",
      "38/38 [==============================] - 7s 185ms/step - loss: 0.0010\n",
      "Epoch 86/100\n",
      "38/38 [==============================] - 7s 184ms/step - loss: 0.0011\n",
      "Epoch 87/100\n",
      "38/38 [==============================] - 7s 182ms/step - loss: 0.0012\n",
      "Epoch 88/100\n",
      "38/38 [==============================] - 7s 182ms/step - loss: 0.0013\n",
      "Epoch 89/100\n",
      "38/38 [==============================] - 7s 184ms/step - loss: 0.0011\n",
      "Epoch 90/100\n",
      "38/38 [==============================] - 7s 185ms/step - loss: 0.0011\n",
      "Epoch 91/100\n",
      "38/38 [==============================] - 7s 186ms/step - loss: 0.0010\n",
      "Epoch 92/100\n",
      "38/38 [==============================] - 7s 182ms/step - loss: 0.0012\n",
      "Epoch 93/100\n",
      "38/38 [==============================] - 7s 184ms/step - loss: 0.0010\n",
      "Epoch 94/100\n",
      "38/38 [==============================] - 7s 184ms/step - loss: 0.0011\n",
      "Epoch 95/100\n",
      "38/38 [==============================] - 7s 182ms/step - loss: 0.0012\n",
      "Epoch 96/100\n",
      "38/38 [==============================] - 7s 183ms/step - loss: 9.7244e-04\n",
      "Epoch 97/100\n",
      "38/38 [==============================] - 7s 182ms/step - loss: 0.0010\n",
      "Epoch 98/100\n",
      "38/38 [==============================] - 7s 183ms/step - loss: 9.5904e-04\n",
      "Epoch 99/100\n"
     ]
    },
    {
     "name": "stdout",
     "output_type": "stream",
     "text": [
      "38/38 [==============================] - 7s 184ms/step - loss: 9.3731e-04\n",
      "Epoch 100/100\n",
      "38/38 [==============================] - 7s 183ms/step - loss: 9.7878e-04\n"
     ]
    },
    {
     "data": {
      "text/plain": [
       "<keras.callbacks.History at 0x2dbfb1e07f0>"
      ]
     },
     "execution_count": 25,
     "metadata": {},
     "output_type": "execute_result"
    }
   ],
   "source": [
    "regressor.fit(x_train,y_train,epochs = 100, batch_size = 32)"
   ]
  },
  {
   "cell_type": "code",
   "execution_count": 3,
   "metadata": {
    "_uuid": "16e063f81273faee696d9db103673ad2b88fda50"
   },
   "outputs": [],
   "source": [
    "dataset_test =pd.read_csv(\"testset.csv\")"
   ]
  },
  {
   "cell_type": "code",
   "execution_count": null,
   "metadata": {
    "_uuid": "6acd6a66dc0f9c013ea008c0d99734697757cae6"
   },
   "outputs": [],
   "source": [
    "real_stock_price = dataset_test.iloc[:,1:2].values"
   ]
  },
  {
   "cell_type": "code",
   "execution_count": null,
   "metadata": {
    "_uuid": "b65a0a5b78f98a5ac13dee98e9738fd61426bfd0"
   },
   "outputs": [],
   "source": [
    "dataset_total = pd.concat((dataset_train['Open'],dataset_test['Open']),axis = 0)\n",
    "dataset_total"
   ]
  },
  {
   "cell_type": "code",
   "execution_count": null,
   "metadata": {
    "_uuid": "31aa33ed70b08e71d0e8bfe4c1abae7901ab947d"
   },
   "outputs": [],
   "source": [
    "inputs = dataset_total[len(dataset_total) - len(dataset_test)-60:].values\n",
    "inputs"
   ]
  },
  {
   "cell_type": "code",
   "execution_count": null,
   "metadata": {
    "_uuid": "7d74568c439acc8dda77dc4365d4b413095508e1"
   },
   "outputs": [],
   "source": [
    "inputs = inputs.reshape(-1,1)"
   ]
  },
  {
   "cell_type": "code",
   "execution_count": null,
   "metadata": {
    "_uuid": "17b170e861d1353ece8aec66f700886106da4aef"
   },
   "outputs": [],
   "source": [
    "inputs"
   ]
  },
  {
   "cell_type": "code",
   "execution_count": null,
   "metadata": {
    "_uuid": "b4003370fb6454d0493ef80b1b50ea34061de7bc"
   },
   "outputs": [],
   "source": [
    "inputs = sc.transform(inputs)\n",
    "inputs.shape"
   ]
  },
  {
   "cell_type": "code",
   "execution_count": null,
   "metadata": {
    "_uuid": "ef076f0fdbe6ec72d85e7326c3e8aa73fcbad667"
   },
   "outputs": [],
   "source": [
    "x_test = []\n",
    "for i in range(60,185):\n",
    "    x_test.append(inputs[i-60:i,0])"
   ]
  },
  {
   "cell_type": "code",
   "execution_count": null,
   "metadata": {
    "_uuid": "1fa15b6bb87ff2da8a730a6e1de20d5e5baf1571"
   },
   "outputs": [],
   "source": [
    "x_test = np.array(x_test)\n",
    "x_test.shape"
   ]
  },
  {
   "cell_type": "code",
   "execution_count": null,
   "metadata": {
    "_uuid": "b244d0115671f29d46d2cb290f92e6a0fe38bc1d"
   },
   "outputs": [],
   "source": [
    "x_test = np.reshape(x_test, (x_test.shape[0],x_test.shape[1],1))\n",
    "x_test.shape"
   ]
  },
  {
   "cell_type": "code",
   "execution_count": null,
   "metadata": {
    "_uuid": "24730042bdad3a140e033a78ae9b170304f8cefb"
   },
   "outputs": [],
   "source": [
    "predicted_price = regressor.predict(x_test)"
   ]
  },
  {
   "cell_type": "code",
   "execution_count": null,
   "metadata": {
    "_uuid": "4b06462fa06e7399373d8a552cd159176fbeef33"
   },
   "outputs": [],
   "source": [
    "predicted_price = sc.inverse_transform(predicted_price)\n",
    "predicted_price"
   ]
  },
  {
   "cell_type": "code",
   "execution_count": 4,
   "metadata": {
    "_uuid": "e8b30d578fafb1564da4448efb1f994537f6f588"
   },
   "outputs": [
    {
     "ename": "NameError",
     "evalue": "name 'real_stock_price' is not defined",
     "output_type": "error",
     "traceback": [
      "\u001b[1;31m---------------------------------------------------------------------------\u001b[0m",
      "\u001b[1;31mNameError\u001b[0m                                 Traceback (most recent call last)",
      "\u001b[1;32m~\\AppData\\Local\\Temp/ipykernel_2904/3478896075.py\u001b[0m in \u001b[0;36m<module>\u001b[1;34m\u001b[0m\n\u001b[1;32m----> 1\u001b[1;33m \u001b[0mplt\u001b[0m\u001b[1;33m.\u001b[0m\u001b[0mplot\u001b[0m\u001b[1;33m(\u001b[0m\u001b[0mreal_stock_price\u001b[0m\u001b[1;33m,\u001b[0m\u001b[0mcolor\u001b[0m \u001b[1;33m=\u001b[0m \u001b[1;34m'red'\u001b[0m\u001b[1;33m,\u001b[0m \u001b[0mlabel\u001b[0m \u001b[1;33m=\u001b[0m \u001b[1;34m'Real Price'\u001b[0m\u001b[1;33m)\u001b[0m\u001b[1;33m\u001b[0m\u001b[1;33m\u001b[0m\u001b[0m\n\u001b[0m\u001b[0;32m      2\u001b[0m \u001b[0mplt\u001b[0m\u001b[1;33m.\u001b[0m\u001b[0mplot\u001b[0m\u001b[1;33m(\u001b[0m\u001b[0mpredicted_price\u001b[0m\u001b[1;33m,\u001b[0m \u001b[0mcolor\u001b[0m \u001b[1;33m=\u001b[0m \u001b[1;34m'blue'\u001b[0m\u001b[1;33m,\u001b[0m \u001b[0mlabel\u001b[0m \u001b[1;33m=\u001b[0m \u001b[1;34m'Predicted Price'\u001b[0m\u001b[1;33m)\u001b[0m\u001b[1;33m\u001b[0m\u001b[1;33m\u001b[0m\u001b[0m\n\u001b[0;32m      3\u001b[0m \u001b[0mplt\u001b[0m\u001b[1;33m.\u001b[0m\u001b[0mtitle\u001b[0m\u001b[1;33m(\u001b[0m\u001b[1;34m'Google Stock Price Prediction'\u001b[0m\u001b[1;33m)\u001b[0m\u001b[1;33m\u001b[0m\u001b[1;33m\u001b[0m\u001b[0m\n\u001b[0;32m      4\u001b[0m \u001b[0mplt\u001b[0m\u001b[1;33m.\u001b[0m\u001b[0mxlabel\u001b[0m\u001b[1;33m(\u001b[0m\u001b[1;34m'Time'\u001b[0m\u001b[1;33m)\u001b[0m\u001b[1;33m\u001b[0m\u001b[1;33m\u001b[0m\u001b[0m\n\u001b[0;32m      5\u001b[0m \u001b[0mplt\u001b[0m\u001b[1;33m.\u001b[0m\u001b[0mylabel\u001b[0m\u001b[1;33m(\u001b[0m\u001b[1;34m'Google Stock Price'\u001b[0m\u001b[1;33m)\u001b[0m\u001b[1;33m\u001b[0m\u001b[1;33m\u001b[0m\u001b[0m\n",
      "\u001b[1;31mNameError\u001b[0m: name 'real_stock_price' is not defined"
     ]
    }
   ],
   "source": [
    "plt.plot(real_stock_price,color = 'red', label = 'Real Price')\n",
    "plt.plot(predicted_price, color = 'blue', label = 'Predicted Price')\n",
    "plt.title('Google Stock Price Prediction')\n",
    "plt.xlabel('Time')\n",
    "plt.ylabel('Google Stock Price')\n",
    "plt.legend()\n",
    "plt.show()"
   ]
  },
  {
   "cell_type": "code",
   "execution_count": 5,
   "metadata": {},
   "outputs": [
    {
     "data": {
      "text/plain": [
       "(125, 7)"
      ]
     },
     "execution_count": 5,
     "metadata": {},
     "output_type": "execute_result"
    }
   ],
   "source": [
    "dataset_test.shape"
   ]
  },
  {
   "cell_type": "code",
   "execution_count": null,
   "metadata": {},
   "outputs": [],
   "source": []
  }
 ],
 "metadata": {
  "kernelspec": {
   "display_name": "Python 3 (ipykernel)",
   "language": "python",
   "name": "python3"
  },
  "language_info": {
   "codemirror_mode": {
    "name": "ipython",
    "version": 3
   },
   "file_extension": ".py",
   "mimetype": "text/x-python",
   "name": "python",
   "nbconvert_exporter": "python",
   "pygments_lexer": "ipython3",
   "version": "3.9.7"
  }
 },
 "nbformat": 4,
 "nbformat_minor": 1
}
