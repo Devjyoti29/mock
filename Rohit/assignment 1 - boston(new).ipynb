{
 "cells": [
  {
   "cell_type": "code",
   "execution_count": 1,
   "id": "290066a0",
   "metadata": {},
   "outputs": [],
   "source": [
    "import numpy as np\n",
    "from tensorflow.keras.datasets import boston_housing\n",
    "from tensorflow.keras.models import Sequential\n",
    "from tensorflow.keras.layers import Dense, Dropout\n",
    "from tensorflow.keras.layers import BatchNormalization\n",
    "from tensorflow.keras.callbacks import ModelCheckpoint\n",
    "from tensorflow.keras.callbacks import TensorBoard # new!\n",
    "import os"
   ]
  },
  {
   "cell_type": "code",
   "execution_count": 2,
   "id": "1c3d6379",
   "metadata": {},
   "outputs": [
    {
     "name": "stdout",
     "output_type": "stream",
     "text": [
      "Downloading data from https://storage.googleapis.com/tensorflow/tf-keras-datasets/boston_housing.npz\n",
      "57026/57026 [==============================] - 0s 1us/step\n"
     ]
    }
   ],
   "source": [
    "(X_train, y_train), (X_valid, y_valid) = boston_housing.load_data()"
   ]
  },
  {
   "cell_type": "code",
   "execution_count": 3,
   "id": "bd19e45d",
   "metadata": {},
   "outputs": [
    {
     "data": {
      "text/plain": [
       "(404, 13)"
      ]
     },
     "execution_count": 3,
     "metadata": {},
     "output_type": "execute_result"
    }
   ],
   "source": [
    "X_train.shape"
   ]
  },
  {
   "cell_type": "code",
   "execution_count": 4,
   "id": "4a5c7446",
   "metadata": {},
   "outputs": [
    {
     "data": {
      "text/plain": [
       "(102, 13)"
      ]
     },
     "execution_count": 4,
     "metadata": {},
     "output_type": "execute_result"
    }
   ],
   "source": [
    "X_valid.shape"
   ]
  },
  {
   "cell_type": "code",
   "execution_count": 5,
   "id": "005d08d5",
   "metadata": {},
   "outputs": [
    {
     "name": "stdout",
     "output_type": "stream",
     "text": [
      "Model: \"sequential\"\n",
      "_________________________________________________________________\n",
      " Layer (type)                Output Shape              Param #   \n",
      "=================================================================\n",
      " dense (Dense)               (None, 32)                448       \n",
      "                                                                 \n",
      " batch_normalization (BatchN  (None, 32)               128       \n",
      " ormalization)                                                   \n",
      "                                                                 \n",
      " dense_1 (Dense)             (None, 16)                528       \n",
      "                                                                 \n",
      " batch_normalization_1 (Batc  (None, 16)               64        \n",
      " hNormalization)                                                 \n",
      "                                                                 \n",
      " dropout (Dropout)           (None, 16)                0         \n",
      "                                                                 \n",
      " dense_2 (Dense)             (None, 1)                 17        \n",
      "                                                                 \n",
      "=================================================================\n",
      "Total params: 1,185\n",
      "Trainable params: 1,089\n",
      "Non-trainable params: 96\n",
      "_________________________________________________________________\n"
     ]
    }
   ],
   "source": [
    "model = Sequential()\n",
    "model.add(Dense(32, input_dim=13, activation='relu'))\n",
    "model.add(BatchNormalization())\n",
    "model.add(Dense(16, activation='relu'))\n",
    "model.add(BatchNormalization())\n",
    "model.add(Dropout(0.2))\n",
    "model.add(Dense(1, activation='linear'))\n",
    "model.summary()"
   ]
  },
  {
   "cell_type": "code",
   "execution_count": 6,
   "id": "703670f7",
   "metadata": {},
   "outputs": [
    {
     "name": "stdout",
     "output_type": "stream",
     "text": [
      "Epoch 1/32\n",
      "51/51 [==============================] - 2s 13ms/step - loss: 574.0446 - val_loss: 598.2431\n",
      "Epoch 2/32\n",
      "51/51 [==============================] - 0s 6ms/step - loss: 552.0942 - val_loss: 595.8686\n",
      "Epoch 3/32\n",
      "51/51 [==============================] - 0s 5ms/step - loss: 534.1974 - val_loss: 578.0081\n",
      "Epoch 4/32\n",
      "51/51 [==============================] - 0s 6ms/step - loss: 517.1168 - val_loss: 530.6877\n",
      "Epoch 5/32\n",
      "51/51 [==============================] - 0s 6ms/step - loss: 490.8459 - val_loss: 494.3353\n",
      "Epoch 6/32\n",
      "51/51 [==============================] - 0s 5ms/step - loss: 461.0536 - val_loss: 449.8052\n",
      "Epoch 7/32\n",
      "51/51 [==============================] - 0s 6ms/step - loss: 427.1331 - val_loss: 412.5668\n",
      "Epoch 8/32\n",
      "51/51 [==============================] - 0s 6ms/step - loss: 390.3669 - val_loss: 429.2360\n",
      "Epoch 9/32\n",
      "51/51 [==============================] - 0s 5ms/step - loss: 353.2308 - val_loss: 391.7182\n",
      "Epoch 10/32\n",
      "51/51 [==============================] - 0s 5ms/step - loss: 309.1895 - val_loss: 460.4668\n",
      "Epoch 11/32\n",
      "51/51 [==============================] - 0s 6ms/step - loss: 264.0898 - val_loss: 465.5063\n",
      "Epoch 12/32\n",
      "51/51 [==============================] - 0s 6ms/step - loss: 224.4365 - val_loss: 489.4700\n",
      "Epoch 13/32\n",
      "51/51 [==============================] - 0s 5ms/step - loss: 198.8520 - val_loss: 526.5530\n",
      "Epoch 14/32\n",
      "51/51 [==============================] - 0s 5ms/step - loss: 170.2261 - val_loss: 334.7156\n",
      "Epoch 15/32\n",
      "51/51 [==============================] - 0s 5ms/step - loss: 141.1803 - val_loss: 289.7374\n",
      "Epoch 16/32\n",
      "51/51 [==============================] - 0s 6ms/step - loss: 114.9024 - val_loss: 337.1913\n",
      "Epoch 17/32\n",
      "51/51 [==============================] - 0s 6ms/step - loss: 95.2440 - val_loss: 264.6410\n",
      "Epoch 18/32\n",
      "51/51 [==============================] - 0s 6ms/step - loss: 80.0607 - val_loss: 160.5279\n",
      "Epoch 19/32\n",
      "51/51 [==============================] - 0s 5ms/step - loss: 70.0964 - val_loss: 148.3860\n",
      "Epoch 20/32\n",
      "51/51 [==============================] - 0s 6ms/step - loss: 57.9552 - val_loss: 253.8081\n",
      "Epoch 21/32\n",
      "51/51 [==============================] - 0s 6ms/step - loss: 54.5940 - val_loss: 129.3108\n",
      "Epoch 22/32\n",
      "51/51 [==============================] - 0s 6ms/step - loss: 49.2957 - val_loss: 96.9678\n",
      "Epoch 23/32\n",
      "51/51 [==============================] - 0s 5ms/step - loss: 43.2686 - val_loss: 31.5413\n",
      "Epoch 24/32\n",
      "51/51 [==============================] - 0s 5ms/step - loss: 41.1518 - val_loss: 40.1781\n",
      "Epoch 25/32\n",
      "51/51 [==============================] - 0s 5ms/step - loss: 50.0880 - val_loss: 25.1214\n",
      "Epoch 26/32\n",
      "51/51 [==============================] - 0s 6ms/step - loss: 46.0226 - val_loss: 35.6343\n",
      "Epoch 27/32\n",
      "51/51 [==============================] - 0s 5ms/step - loss: 43.4554 - val_loss: 26.5134\n",
      "Epoch 28/32\n",
      "51/51 [==============================] - 0s 5ms/step - loss: 44.6129 - val_loss: 28.6871\n",
      "Epoch 29/32\n",
      "51/51 [==============================] - 0s 5ms/step - loss: 48.0363 - val_loss: 43.5004\n",
      "Epoch 30/32\n",
      "51/51 [==============================] - 0s 5ms/step - loss: 39.4625 - val_loss: 33.3607\n",
      "Epoch 31/32\n",
      "51/51 [==============================] - 0s 5ms/step - loss: 40.4331 - val_loss: 32.0739\n",
      "Epoch 32/32\n",
      "51/51 [==============================] - 0s 5ms/step - loss: 42.6707 - val_loss: 59.6912\n"
     ]
    },
    {
     "data": {
      "text/plain": [
       "<keras.callbacks.History at 0x212a539ff70>"
      ]
     },
     "execution_count": 6,
     "metadata": {},
     "output_type": "execute_result"
    }
   ],
   "source": [
    "model.compile(loss='mean_squared_error', optimizer='adam', )\n",
    "output_dir = 'model_output/'\n",
    "run_name = 'regression_baseline'\n",
    "output_path = output_dir + run_name\n",
    "if not os.path.exists(output_path):\n",
    "    os.makedirs(output_path)\n",
    "modelcheckpoint = ModelCheckpoint(output_path + '/weights.{epoch:02d}.hdf5', # decimal integers\n",
    "save_weights_only=True) # otherwise full model is saved\n",
    "tensorboard = TensorBoard(log_dir='logs/' + run_name)\n",
    "model.fit(X_train, y_train,\n",
    "    batch_size=8, epochs=32, verbose=1,\n",
    "    validation_data=(X_valid, y_valid),\n",
    "    callbacks=[modelcheckpoint, tensorboard])\n"
   ]
  },
  {
   "cell_type": "code",
   "execution_count": 8,
   "id": "624a04b1",
   "metadata": {},
   "outputs": [
    {
     "data": {
      "text/plain": [
       "array([  9.32909,   0.     ,  18.1    ,   0.     ,   0.713  ,   6.185  ,\n",
       "        98.7    ,   2.2616 ,  24.     , 666.     ,  20.2    , 396.9    ,\n",
       "        18.13   ])"
      ]
     },
     "execution_count": 8,
     "metadata": {},
     "output_type": "execute_result"
    }
   ],
   "source": [
    "model.load_weights(output_path + '/weights.28.hdf5')\n",
    "X_valid[42]"
   ]
  },
  {
   "cell_type": "code",
   "execution_count": 9,
   "id": "6b451d22",
   "metadata": {},
   "outputs": [
    {
     "name": "stdout",
     "output_type": "stream",
     "text": [
      "1/1 [==============================] - 0s 251ms/step\n"
     ]
    },
    {
     "data": {
      "text/plain": [
       "array([[17.62719]], dtype=float32)"
      ]
     },
     "execution_count": 9,
     "metadata": {},
     "output_type": "execute_result"
    }
   ],
   "source": [
    "model.predict(np.reshape(X_valid[42], [1, 13]))\n"
   ]
  },
  {
   "cell_type": "code",
   "execution_count": null,
   "id": "c25f5cc5",
   "metadata": {},
   "outputs": [],
   "source": []
  }
 ],
 "metadata": {
  "kernelspec": {
   "display_name": "Python 3 (ipykernel)",
   "language": "python",
   "name": "python3"
  },
  "language_info": {
   "codemirror_mode": {
    "name": "ipython",
    "version": 3
   },
   "file_extension": ".py",
   "mimetype": "text/x-python",
   "name": "python",
   "nbconvert_exporter": "python",
   "pygments_lexer": "ipython3",
   "version": "3.9.7"
  }
 },
 "nbformat": 4,
 "nbformat_minor": 5
}
