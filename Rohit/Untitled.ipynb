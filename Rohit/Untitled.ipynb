{
 "cells": [
  {
   "cell_type": "code",
   "execution_count": 16,
   "id": "7f70641e",
   "metadata": {},
   "outputs": [],
   "source": [
    "import numpy as np\n",
    "import pandas as pd\n",
    "import matplotlib.pyplot as plt"
   ]
  },
  {
   "cell_type": "code",
   "execution_count": 17,
   "id": "ff486352",
   "metadata": {},
   "outputs": [
    {
     "data": {
      "text/html": [
       "<div>\n",
       "<style scoped>\n",
       "    .dataframe tbody tr th:only-of-type {\n",
       "        vertical-align: middle;\n",
       "    }\n",
       "\n",
       "    .dataframe tbody tr th {\n",
       "        vertical-align: top;\n",
       "    }\n",
       "\n",
       "    .dataframe thead th {\n",
       "        text-align: right;\n",
       "    }\n",
       "</style>\n",
       "<table border=\"1\" class=\"dataframe\">\n",
       "  <thead>\n",
       "    <tr style=\"text-align: right;\">\n",
       "      <th></th>\n",
       "      <th>Date</th>\n",
       "      <th>Open</th>\n",
       "      <th>High</th>\n",
       "      <th>Low</th>\n",
       "      <th>Close</th>\n",
       "      <th>Adj Close</th>\n",
       "      <th>Volume</th>\n",
       "    </tr>\n",
       "  </thead>\n",
       "  <tbody>\n",
       "    <tr>\n",
       "      <th>0</th>\n",
       "      <td>2013-01-02</td>\n",
       "      <td>357.385559</td>\n",
       "      <td>361.151062</td>\n",
       "      <td>355.959839</td>\n",
       "      <td>359.288177</td>\n",
       "      <td>359.288177</td>\n",
       "      <td>5115500</td>\n",
       "    </tr>\n",
       "    <tr>\n",
       "      <th>1</th>\n",
       "      <td>2013-01-03</td>\n",
       "      <td>360.122742</td>\n",
       "      <td>363.600128</td>\n",
       "      <td>358.031342</td>\n",
       "      <td>359.496826</td>\n",
       "      <td>359.496826</td>\n",
       "      <td>4666500</td>\n",
       "    </tr>\n",
       "    <tr>\n",
       "      <th>2</th>\n",
       "      <td>2013-01-04</td>\n",
       "      <td>362.313507</td>\n",
       "      <td>368.339294</td>\n",
       "      <td>361.488861</td>\n",
       "      <td>366.600616</td>\n",
       "      <td>366.600616</td>\n",
       "      <td>5562800</td>\n",
       "    </tr>\n",
       "    <tr>\n",
       "      <th>3</th>\n",
       "      <td>2013-01-07</td>\n",
       "      <td>365.348755</td>\n",
       "      <td>367.301056</td>\n",
       "      <td>362.929504</td>\n",
       "      <td>365.001007</td>\n",
       "      <td>365.001007</td>\n",
       "      <td>3332900</td>\n",
       "    </tr>\n",
       "    <tr>\n",
       "      <th>4</th>\n",
       "      <td>2013-01-08</td>\n",
       "      <td>365.393463</td>\n",
       "      <td>365.771027</td>\n",
       "      <td>359.874359</td>\n",
       "      <td>364.280701</td>\n",
       "      <td>364.280701</td>\n",
       "      <td>3373900</td>\n",
       "    </tr>\n",
       "    <tr>\n",
       "      <th>...</th>\n",
       "      <td>...</td>\n",
       "      <td>...</td>\n",
       "      <td>...</td>\n",
       "      <td>...</td>\n",
       "      <td>...</td>\n",
       "      <td>...</td>\n",
       "      <td>...</td>\n",
       "    </tr>\n",
       "    <tr>\n",
       "      <th>1254</th>\n",
       "      <td>2017-12-22</td>\n",
       "      <td>1061.109985</td>\n",
       "      <td>1064.199951</td>\n",
       "      <td>1059.439941</td>\n",
       "      <td>1060.119995</td>\n",
       "      <td>1060.119995</td>\n",
       "      <td>755100</td>\n",
       "    </tr>\n",
       "    <tr>\n",
       "      <th>1255</th>\n",
       "      <td>2017-12-26</td>\n",
       "      <td>1058.069946</td>\n",
       "      <td>1060.119995</td>\n",
       "      <td>1050.199951</td>\n",
       "      <td>1056.739990</td>\n",
       "      <td>1056.739990</td>\n",
       "      <td>760600</td>\n",
       "    </tr>\n",
       "    <tr>\n",
       "      <th>1256</th>\n",
       "      <td>2017-12-27</td>\n",
       "      <td>1057.390015</td>\n",
       "      <td>1058.369995</td>\n",
       "      <td>1048.050049</td>\n",
       "      <td>1049.369995</td>\n",
       "      <td>1049.369995</td>\n",
       "      <td>1271900</td>\n",
       "    </tr>\n",
       "    <tr>\n",
       "      <th>1257</th>\n",
       "      <td>2017-12-28</td>\n",
       "      <td>1051.599976</td>\n",
       "      <td>1054.750000</td>\n",
       "      <td>1044.770020</td>\n",
       "      <td>1048.140015</td>\n",
       "      <td>1048.140015</td>\n",
       "      <td>837100</td>\n",
       "    </tr>\n",
       "    <tr>\n",
       "      <th>1258</th>\n",
       "      <td>2017-12-29</td>\n",
       "      <td>1046.719971</td>\n",
       "      <td>1049.699951</td>\n",
       "      <td>1044.900024</td>\n",
       "      <td>1046.400024</td>\n",
       "      <td>1046.400024</td>\n",
       "      <td>887500</td>\n",
       "    </tr>\n",
       "  </tbody>\n",
       "</table>\n",
       "<p>1259 rows × 7 columns</p>\n",
       "</div>"
      ],
      "text/plain": [
       "            Date         Open         High          Low        Close  \\\n",
       "0     2013-01-02   357.385559   361.151062   355.959839   359.288177   \n",
       "1     2013-01-03   360.122742   363.600128   358.031342   359.496826   \n",
       "2     2013-01-04   362.313507   368.339294   361.488861   366.600616   \n",
       "3     2013-01-07   365.348755   367.301056   362.929504   365.001007   \n",
       "4     2013-01-08   365.393463   365.771027   359.874359   364.280701   \n",
       "...          ...          ...          ...          ...          ...   \n",
       "1254  2017-12-22  1061.109985  1064.199951  1059.439941  1060.119995   \n",
       "1255  2017-12-26  1058.069946  1060.119995  1050.199951  1056.739990   \n",
       "1256  2017-12-27  1057.390015  1058.369995  1048.050049  1049.369995   \n",
       "1257  2017-12-28  1051.599976  1054.750000  1044.770020  1048.140015   \n",
       "1258  2017-12-29  1046.719971  1049.699951  1044.900024  1046.400024   \n",
       "\n",
       "        Adj Close   Volume  \n",
       "0      359.288177  5115500  \n",
       "1      359.496826  4666500  \n",
       "2      366.600616  5562800  \n",
       "3      365.001007  3332900  \n",
       "4      364.280701  3373900  \n",
       "...           ...      ...  \n",
       "1254  1060.119995   755100  \n",
       "1255  1056.739990   760600  \n",
       "1256  1049.369995  1271900  \n",
       "1257  1048.140015   837100  \n",
       "1258  1046.400024   887500  \n",
       "\n",
       "[1259 rows x 7 columns]"
      ]
     },
     "execution_count": 17,
     "metadata": {},
     "output_type": "execute_result"
    }
   ],
   "source": [
    "training_set=pd.read_csv('trainset.csv')\n",
    "training_set"
   ]
  },
  {
   "cell_type": "code",
   "execution_count": 18,
   "id": "b1b832fe",
   "metadata": {},
   "outputs": [
    {
     "name": "stdout",
     "output_type": "stream",
     "text": [
      "<class 'pandas.core.frame.DataFrame'>\n",
      "RangeIndex: 1259 entries, 0 to 1258\n",
      "Data columns (total 7 columns):\n",
      " #   Column     Non-Null Count  Dtype  \n",
      "---  ------     --------------  -----  \n",
      " 0   Date       1259 non-null   object \n",
      " 1   Open       1259 non-null   float64\n",
      " 2   High       1259 non-null   float64\n",
      " 3   Low        1259 non-null   float64\n",
      " 4   Close      1259 non-null   float64\n",
      " 5   Adj Close  1259 non-null   float64\n",
      " 6   Volume     1259 non-null   int64  \n",
      "dtypes: float64(5), int64(1), object(1)\n",
      "memory usage: 69.0+ KB\n"
     ]
    }
   ],
   "source": [
    "training_set.info()"
   ]
  },
  {
   "cell_type": "code",
   "execution_count": 19,
   "id": "9a85620b",
   "metadata": {},
   "outputs": [
    {
     "data": {
      "image/png": "[encoded data removed]",
      "text/plain": [
       "<Figure size 360x360 with 1 Axes>"
      ]
     },
     "metadata": {
      "needs_background": "light"
     },
     "output_type": "display_data"
    }
   ],
   "source": [
    "import matplotlib.pyplot as plt\n",
    "plt.figure(figsize=(5, 5))\n",
    "plt.subplots_adjust(top=1.25, bottom=1.2)\n",
    "training_set['Adj Close'].plot()\n",
    "plt.ylabel('Adj Close')\n",
    "plt.xlabel(None)\n",
    "plt.title(f\"Closing Price of Google\")\n",
    "plt.tight_layout()"
   ]
  },
  {
   "cell_type": "code",
   "execution_count": 20,
   "id": "80cd341b",
   "metadata": {},
   "outputs": [
    {
     "data": {
      "text/plain": [
       "Text(0.5, 1.0, 'Sales Volume')"
      ]
     },
     "execution_count": 20,
     "metadata": {},
     "output_type": "execute_result"
    },
    {
     "data": {
      "image/png": "[encoded data removed]",
      "text/plain": [
       "<Figure size 1080x1440 with 1 Axes>"
      ]
     },
     "metadata": {
      "needs_background": "light"
     },
     "output_type": "display_data"
    }
   ],
   "source": [
    "# Now let's plot the total volume of stock being traded each day\n",
    "plt.figure(figsize=(15, 20))\n",
    "plt.subplots_adjust(top=1.25, bottom=1.2)\n",
    "training_set['Volume'].plot()\n",
    "plt.ylabel('Volume')\n",
    "plt.xlabel(None)\n",
    "plt.title(f\"Sales Volume\")"
   ]
  },
  {
   "cell_type": "code",
   "execution_count": 21,
   "id": "54367bdd",
   "metadata": {},
   "outputs": [],
   "source": [
    "training_set=training_set.iloc[:,1:2].values\n",
    "from sklearn.preprocessing import MinMaxScaler\n",
    "sc= MinMaxScaler()\n",
    "training_set=sc.fit_transform(training_set)\n",
    "X_train= training_set[0:1257]\n",
    "y_train= training_set[1:1258]\n",
    "X_train=np.reshape(X_train, (1257 , 1 , 1))"
   ]
  },
  {
   "cell_type": "code",
   "execution_count": 22,
   "id": "5bcc48d4",
   "metadata": {},
   "outputs": [
    {
     "name": "stdout",
     "output_type": "stream",
     "text": [
      "Epoch 1/100\n",
      "40/40 [==============================] - 2s 5ms/step - loss: 0.2487\n",
      "Epoch 2/100\n",
      "40/40 [==============================] - 0s 3ms/step - loss: 0.1614\n",
      "Epoch 3/100\n",
      "40/40 [==============================] - 0s 3ms/step - loss: 0.1056\n",
      "Epoch 4/100\n",
      "40/40 [==============================] - 0s 3ms/step - loss: 0.0724\n",
      "Epoch 5/100\n",
      "40/40 [==============================] - 0s 3ms/step - loss: 0.0543\n",
      "Epoch 6/100\n",
      "40/40 [==============================] - 0s 3ms/step - loss: 0.0451\n",
      "Epoch 7/100\n",
      "40/40 [==============================] - 0s 3ms/step - loss: 0.0408\n",
      "Epoch 8/100\n",
      "40/40 [==============================] - 0s 3ms/step - loss: 0.0387\n",
      "Epoch 9/100\n",
      "40/40 [==============================] - 0s 3ms/step - loss: 0.0374\n",
      "Epoch 10/100\n",
      "40/40 [==============================] - 0s 3ms/step - loss: 0.0364\n",
      "Epoch 11/100\n",
      "40/40 [==============================] - 0s 3ms/step - loss: 0.0356\n",
      "Epoch 12/100\n",
      "40/40 [==============================] - 0s 3ms/step - loss: 0.0346\n",
      "Epoch 13/100\n",
      "40/40 [==============================] - 0s 3ms/step - loss: 0.0337\n",
      "Epoch 14/100\n",
      "40/40 [==============================] - 0s 3ms/step - loss: 0.0328\n",
      "Epoch 15/100\n",
      "40/40 [==============================] - 0s 3ms/step - loss: 0.0319\n",
      "Epoch 16/100\n",
      "40/40 [==============================] - 0s 3ms/step - loss: 0.0310\n",
      "Epoch 17/100\n",
      "40/40 [==============================] - 0s 3ms/step - loss: 0.0300\n",
      "Epoch 18/100\n",
      "40/40 [==============================] - 0s 3ms/step - loss: 0.0291\n",
      "Epoch 19/100\n",
      "40/40 [==============================] - 0s 3ms/step - loss: 0.0281\n",
      "Epoch 20/100\n",
      "40/40 [==============================] - 0s 3ms/step - loss: 0.0271\n",
      "Epoch 21/100\n",
      "40/40 [==============================] - 0s 3ms/step - loss: 0.0261\n",
      "Epoch 22/100\n",
      "40/40 [==============================] - 0s 3ms/step - loss: 0.0252\n",
      "Epoch 23/100\n",
      "40/40 [==============================] - 0s 3ms/step - loss: 0.0242\n",
      "Epoch 24/100\n",
      "40/40 [==============================] - 0s 3ms/step - loss: 0.0232\n",
      "Epoch 25/100\n",
      "40/40 [==============================] - 0s 3ms/step - loss: 0.0223\n",
      "Epoch 26/100\n",
      "40/40 [==============================] - 0s 3ms/step - loss: 0.0213\n",
      "Epoch 27/100\n",
      "40/40 [==============================] - 0s 3ms/step - loss: 0.0203\n",
      "Epoch 28/100\n",
      "40/40 [==============================] - 0s 3ms/step - loss: 0.0194\n",
      "Epoch 29/100\n",
      "40/40 [==============================] - 0s 3ms/step - loss: 0.0185\n",
      "Epoch 30/100\n",
      "40/40 [==============================] - 0s 3ms/step - loss: 0.0176\n",
      "Epoch 31/100\n",
      "40/40 [==============================] - 0s 3ms/step - loss: 0.0167\n",
      "Epoch 32/100\n",
      "40/40 [==============================] - 0s 3ms/step - loss: 0.0158\n",
      "Epoch 33/100\n",
      "40/40 [==============================] - 0s 3ms/step - loss: 0.0149\n",
      "Epoch 34/100\n",
      "40/40 [==============================] - 0s 3ms/step - loss: 0.0141\n",
      "Epoch 35/100\n",
      "40/40 [==============================] - 0s 3ms/step - loss: 0.0132\n",
      "Epoch 36/100\n",
      "40/40 [==============================] - 0s 3ms/step - loss: 0.0124\n",
      "Epoch 37/100\n",
      "40/40 [==============================] - 0s 3ms/step - loss: 0.0117\n",
      "Epoch 38/100\n",
      "40/40 [==============================] - 0s 3ms/step - loss: 0.0109\n",
      "Epoch 39/100\n",
      "40/40 [==============================] - 0s 3ms/step - loss: 0.0102\n",
      "Epoch 40/100\n",
      "40/40 [==============================] - 0s 3ms/step - loss: 0.0095\n",
      "Epoch 41/100\n",
      "40/40 [==============================] - 0s 3ms/step - loss: 0.0088\n",
      "Epoch 42/100\n",
      "40/40 [==============================] - 0s 3ms/step - loss: 0.0081\n",
      "Epoch 43/100\n",
      "40/40 [==============================] - 0s 3ms/step - loss: 0.0075\n",
      "Epoch 44/100\n",
      "40/40 [==============================] - 0s 3ms/step - loss: 0.0069\n",
      "Epoch 45/100\n",
      "40/40 [==============================] - 0s 3ms/step - loss: 0.0063\n",
      "Epoch 46/100\n",
      "40/40 [==============================] - 0s 3ms/step - loss: 0.0058\n",
      "Epoch 47/100\n",
      "40/40 [==============================] - 0s 3ms/step - loss: 0.0053\n",
      "Epoch 48/100\n",
      "40/40 [==============================] - 0s 3ms/step - loss: 0.0048\n",
      "Epoch 49/100\n",
      "40/40 [==============================] - 0s 3ms/step - loss: 0.0044\n",
      "Epoch 50/100\n",
      "40/40 [==============================] - 0s 3ms/step - loss: 0.0040\n",
      "Epoch 51/100\n",
      "40/40 [==============================] - 0s 3ms/step - loss: 0.0036\n",
      "Epoch 52/100\n",
      "40/40 [==============================] - 0s 3ms/step - loss: 0.0032\n",
      "Epoch 53/100\n",
      "40/40 [==============================] - 0s 3ms/step - loss: 0.0029\n",
      "Epoch 54/100\n",
      "40/40 [==============================] - 0s 3ms/step - loss: 0.0026\n",
      "Epoch 55/100\n",
      "40/40 [==============================] - 0s 3ms/step - loss: 0.0023\n",
      "Epoch 56/100\n",
      "40/40 [==============================] - 0s 3ms/step - loss: 0.0021\n",
      "Epoch 57/100\n",
      "40/40 [==============================] - 0s 3ms/step - loss: 0.0018\n",
      "Epoch 58/100\n",
      "40/40 [==============================] - 0s 3ms/step - loss: 0.0016\n",
      "Epoch 59/100\n",
      "40/40 [==============================] - 0s 4ms/step - loss: 0.0015\n",
      "Epoch 60/100\n",
      "40/40 [==============================] - 0s 3ms/step - loss: 0.0013\n",
      "Epoch 61/100\n",
      "40/40 [==============================] - 0s 3ms/step - loss: 0.0011\n",
      "Epoch 62/100\n",
      "40/40 [==============================] - 0s 3ms/step - loss: 0.0010\n",
      "Epoch 63/100\n",
      "40/40 [==============================] - 0s 3ms/step - loss: 8.9720e-04\n",
      "Epoch 64/100\n",
      "40/40 [==============================] - 0s 3ms/step - loss: 8.0021e-04\n",
      "Epoch 65/100\n",
      "40/40 [==============================] - 0s 3ms/step - loss: 7.1405e-04\n",
      "Epoch 66/100\n",
      "40/40 [==============================] - 0s 3ms/step - loss: 6.3859e-04\n",
      "Epoch 67/100\n",
      "40/40 [==============================] - 0s 3ms/step - loss: 5.7380e-04\n",
      "Epoch 68/100\n",
      "40/40 [==============================] - 0s 3ms/step - loss: 5.1873e-04\n",
      "Epoch 69/100\n",
      "40/40 [==============================] - 0s 3ms/step - loss: 4.7206e-04\n",
      "Epoch 70/100\n",
      "40/40 [==============================] - 0s 3ms/step - loss: 4.3345e-04\n",
      "Epoch 71/100\n",
      "40/40 [==============================] - 0s 3ms/step - loss: 3.9781e-04\n",
      "Epoch 72/100\n",
      "40/40 [==============================] - 0s 3ms/step - loss: 3.6970e-04\n",
      "Epoch 73/100\n",
      "40/40 [==============================] - 0s 3ms/step - loss: 3.4668e-04\n",
      "Epoch 74/100\n",
      "40/40 [==============================] - 0s 3ms/step - loss: 3.2735e-04\n",
      "Epoch 75/100\n",
      "40/40 [==============================] - 0s 3ms/step - loss: 3.1161e-04\n",
      "Epoch 76/100\n",
      "40/40 [==============================] - 0s 3ms/step - loss: 2.9836e-04\n",
      "Epoch 77/100\n",
      "40/40 [==============================] - 0s 3ms/step - loss: 2.8783e-04\n",
      "Epoch 78/100\n",
      "40/40 [==============================] - 0s 3ms/step - loss: 2.7873e-04\n",
      "Epoch 79/100\n",
      "40/40 [==============================] - 0s 3ms/step - loss: 2.7211e-04\n",
      "Epoch 80/100\n",
      "40/40 [==============================] - 0s 3ms/step - loss: 2.6694e-04\n",
      "Epoch 81/100\n",
      "40/40 [==============================] - 0s 3ms/step - loss: 2.6225e-04\n",
      "Epoch 82/100\n",
      "40/40 [==============================] - 0s 3ms/step - loss: 2.5786e-04\n",
      "Epoch 83/100\n",
      "40/40 [==============================] - 0s 3ms/step - loss: 2.5597e-04\n",
      "Epoch 84/100\n",
      "40/40 [==============================] - 0s 3ms/step - loss: 2.5294e-04\n",
      "Epoch 85/100\n",
      "40/40 [==============================] - 0s 3ms/step - loss: 2.5095e-04\n",
      "Epoch 86/100\n",
      "40/40 [==============================] - 0s 3ms/step - loss: 2.5008e-04\n",
      "Epoch 87/100\n",
      "40/40 [==============================] - 0s 3ms/step - loss: 2.4818e-04\n",
      "Epoch 88/100\n",
      "40/40 [==============================] - 0s 3ms/step - loss: 2.4722e-04\n",
      "Epoch 89/100\n",
      "40/40 [==============================] - 0s 3ms/step - loss: 2.4663e-04\n",
      "Epoch 90/100\n",
      "40/40 [==============================] - 0s 3ms/step - loss: 2.4582e-04\n",
      "Epoch 91/100\n",
      "40/40 [==============================] - 0s 3ms/step - loss: 2.4515e-04\n",
      "Epoch 92/100\n",
      "40/40 [==============================] - 0s 3ms/step - loss: 2.4459e-04\n",
      "Epoch 93/100\n",
      "40/40 [==============================] - 0s 3ms/step - loss: 2.4423e-04\n",
      "Epoch 94/100\n",
      "40/40 [==============================] - 0s 3ms/step - loss: 2.4443e-04\n",
      "Epoch 95/100\n",
      "40/40 [==============================] - 0s 3ms/step - loss: 2.4419e-04\n",
      "Epoch 96/100\n",
      "40/40 [==============================] - 0s 3ms/step - loss: 2.4331e-04\n",
      "Epoch 97/100\n",
      "40/40 [==============================] - 0s 3ms/step - loss: 2.4252e-04\n",
      "Epoch 98/100\n",
      "40/40 [==============================] - 0s 3ms/step - loss: 2.4144e-04\n",
      "Epoch 99/100\n",
      "40/40 [==============================] - 0s 3ms/step - loss: 2.4180e-04\n",
      "Epoch 100/100\n"
     ]
    },
    {
     "name": "stdout",
     "output_type": "stream",
     "text": [
      "40/40 [==============================] - 0s 3ms/step - loss: 2.4120e-04\n"
     ]
    },
    {
     "data": {
      "text/plain": [
       "<keras.callbacks.History at 0x196ad62dac0>"
      ]
     },
     "execution_count": 22,
     "metadata": {},
     "output_type": "execute_result"
    }
   ],
   "source": [
    "from keras.models import Sequential\n",
    "from keras.layers import Dense\n",
    "from keras.layers import LSTM\n",
    "\n",
    "regressor = Sequential()\n",
    "\n",
    "regressor.add(LSTM(units=4, activation= 'sigmoid', input_shape= (None,1)))\n",
    "\n",
    "regressor.add(Dense( units=1 ))\n",
    "\n",
    "regressor.compile(optimizer='adam', loss='mean_squared_error')\n",
    "regressor.fit(X_train, y_train, batch_size=32, epochs=100)\n"
   ]
  },
  {
   "cell_type": "code",
   "execution_count": 26,
   "id": "0f58c2b6",
   "metadata": {},
   "outputs": [
    {
     "name": "stdout",
     "output_type": "stream",
     "text": [
      "4/4 [==============================] - 1s 3ms/step\n"
     ]
    }
   ],
   "source": [
    "test_set = pd.read_csv('testset.csv')\n",
    "real_stock_price = test_set.iloc[:,1:2].values\n",
    "\n",
    "inputs = real_stock_price\n",
    "inputs = sc.transform(inputs)\n",
    "inputs = np.reshape(inputs, (1,1,1))\n",
    "predicted_stock_price = regressor.predict(inputs)\n",
    "predicted_stock_price = sc.inverse_transform(predicted_stock_price)"
   ]
  },
  {
   "cell_type": "code",
   "execution_count": 27,
   "id": "f829d5fd",
   "metadata": {},
   "outputs": [
    {
     "data": {
      "image/png": "[encoded data removed]",
      "text/plain": [
       "<Figure size 432x288 with 1 Axes>"
      ]
     },
     "metadata": {
      "needs_background": "light"
     },
     "output_type": "display_data"
    }
   ],
   "source": [
    "plt.plot( real_stock_price , color = 'red' , label = 'Real Google Stock Price')\n",
    "plt.plot( predicted_stock_price , color = 'blue' , label = 'Predicted Google Stock Price')\n",
    "plt.title('Google Stock Price Prediction')\n",
    "plt.xlabel( 'time' )\n",
    "plt.ylabel( 'Google Stock Price' )\n",
    "plt.legend()\n",
    "plt.show()"
   ]
  },
  {
   "cell_type": "code",
   "execution_count": 25,
   "id": "2a2898f9",
   "metadata": {},
   "outputs": [
    {
     "data": {
      "text/plain": [
       "(125, 7)"
      ]
     },
     "execution_count": 25,
     "metadata": {},
     "output_type": "execute_result"
    }
   ],
   "source": [
    "test_set.shape"
   ]
  },
  {
   "cell_type": "code",
   "execution_count": 29,
   "id": "0c59fd25",
   "metadata": {},
   "outputs": [
    {
     "ename": "NameError",
     "evalue": "name 'y_test' is not defined",
     "output_type": "error",
     "traceback": [
      "\u001b[1;31m---------------------------------------------------------------------------\u001b[0m",
      "\u001b[1;31mNameError\u001b[0m                                 Traceback (most recent call last)",
      "\u001b[1;32m~\\AppData\\Local\\Temp/ipykernel_16260/1443059984.py\u001b[0m in \u001b[0;36m<module>\u001b[1;34m\u001b[0m\n\u001b[0;32m      1\u001b[0m \u001b[1;32mfrom\u001b[0m \u001b[0msklearn\u001b[0m\u001b[1;33m.\u001b[0m\u001b[0mmetrics\u001b[0m \u001b[1;32mimport\u001b[0m \u001b[0maccuracy_score\u001b[0m\u001b[1;33m\u001b[0m\u001b[1;33m\u001b[0m\u001b[0m\n\u001b[1;32m----> 2\u001b[1;33m \u001b[0mscore\u001b[0m \u001b[1;33m=\u001b[0m \u001b[0mregressor\u001b[0m\u001b[1;33m.\u001b[0m\u001b[0mpredict\u001b[0m\u001b[1;33m(\u001b[0m\u001b[0my_test\u001b[0m\u001b[1;33m)\u001b[0m\u001b[1;33m\u001b[0m\u001b[1;33m\u001b[0m\u001b[0m\n\u001b[0m\u001b[0;32m      3\u001b[0m \u001b[0mprint\u001b[0m\u001b[1;33m(\u001b[0m\u001b[0mscore\u001b[0m\u001b[1;33m)\u001b[0m\u001b[1;33m\u001b[0m\u001b[1;33m\u001b[0m\u001b[0m\n",
      "\u001b[1;31mNameError\u001b[0m: name 'y_test' is not defined"
     ]
    }
   ],
   "source": [
    "from sklearn.metrics import accuracy_score\n",
    "score = regressor.predict(y_test)\n",
    "print(score)"
   ]
  }
 ],
 "metadata": {
  "kernelspec": {
   "display_name": "Python 3 (ipykernel)",
   "language": "python",
   "name": "python3"
  },
  "language_info": {
   "codemirror_mode": {
    "name": "ipython",
    "version": 3
   },
   "file_extension": ".py",
   "mimetype": "text/x-python",
   "name": "python",
   "nbconvert_exporter": "python",
   "pygments_lexer": "ipython3",
   "version": "3.9.7"
  }
 },
 "nbformat": 4,
 "nbformat_minor": 5
}
